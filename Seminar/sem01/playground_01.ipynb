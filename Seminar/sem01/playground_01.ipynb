{
 "cells": [
  {
   "cell_type": "markdown",
   "metadata": {},
   "source": [
    "## **Code playground for SDA sem 1**"
   ]
  },
  {
   "cell_type": "markdown",
   "metadata": {},
   "source": [
    "### **Mutable vs Immutable objects.**"
   ]
  },
  {
   "cell_type": "markdown",
   "metadata": {},
   "source": [
    "Immutable objects. Note that the id changes:"
   ]
  },
  {
   "cell_type": "markdown",
   "metadata": {},
   "source": [
    "- numbers"
   ]
  },
  {
   "cell_type": "code",
   "execution_count": null,
   "metadata": {},
   "outputs": [],
   "source": [
    "n = 1\n",
    "print(n) # 1\n",
    "print(\"Id of the object:\", id(n)) # 2076829352176\n",
    "\n",
    "n += 2\n",
    "print(n) # 3\n",
    "print(\"Id of the object:\", id(n)) # 2076829352240"
   ]
  },
  {
   "cell_type": "markdown",
   "metadata": {},
   "source": [
    "- tuples"
   ]
  },
  {
   "cell_type": "code",
   "execution_count": null,
   "metadata": {},
   "outputs": [],
   "source": [
    "t = 1, 2, 3\n",
    "print(t) # (1, 2, 3)\n",
    "print(\"Id of the object:\", id(t)) # 2076932109760\n",
    "\n",
    "t += 4, 5\n",
    "print(t) # (1, 2, 3, 4, 5)\n",
    "print(\"Id of the object:\", id(t)) # 2076931006016"
   ]
  },
  {
   "cell_type": "markdown",
   "metadata": {},
   "source": [
    "- strings"
   ]
  },
  {
   "cell_type": "code",
   "execution_count": null,
   "metadata": {},
   "outputs": [],
   "source": [
    "s = \"abc\"\n",
    "print(s) # abc\n",
    "print(\"Id of the object:\", id(s)) # 2076834978160\n",
    "\n",
    "s += \"xyz\"\n",
    "print(s) # abcxyz\n",
    "print(\"Id of the object:\", id(s)) # 2076910065392"
   ]
  },
  {
   "cell_type": "markdown",
   "metadata": {},
   "source": [
    "Mutable objects. Note that the id remains the same:"
   ]
  },
  {
   "cell_type": "markdown",
   "metadata": {},
   "source": [
    "- lists"
   ]
  },
  {
   "cell_type": "code",
   "execution_count": null,
   "metadata": {},
   "outputs": [],
   "source": [
    "arr = [1, 2, 3]\n",
    "print(arr) # [1, 2, 3]\n",
    "print(\"Id of the object:\", id(arr)) # 2076931496320\n",
    "\n",
    "arr += [4, 5]\n",
    "print(arr) # [1, 2, 3, 4, 5]\n",
    "print(\"Id of the object:\", id(arr)) # 2076931496320"
   ]
  },
  {
   "cell_type": "markdown",
   "metadata": {},
   "source": [
    "- sets"
   ]
  },
  {
   "cell_type": "code",
   "execution_count": null,
   "metadata": {},
   "outputs": [],
   "source": [
    "A = {1, 1, 2, 3}\n",
    "print(A) # {1, 2, 3}\n",
    "print(\"Id of the object:\", id(A)) # 2076910498784\n",
    "\n",
    "A |= {1, 3, 4}\n",
    "print(A) # {1, 2, 3, 4}\n",
    "print(\"Id of the object:\", id(A)) # 2076910498784"
   ]
  },
  {
   "cell_type": "markdown",
   "metadata": {},
   "source": [
    "- dictionaries"
   ]
  },
  {
   "cell_type": "code",
   "execution_count": null,
   "metadata": {},
   "outputs": [],
   "source": [
    "D = {6: 'Saturday', 7: 'Sunday'}\n",
    "print(D) # {6: 'Saturday', 7: 'Sunday'}\n",
    "print(\"Id of the object:\", id(D)) # 2076931815552\n",
    "\n",
    "D[7] = 'Воскресенье'\n",
    "print(D) # {6: 'Saturday', 7: 'Возкресение'}\n",
    "print(\"Id of the object:\", id(D)) # 2076931815552"
   ]
  },
  {
   "cell_type": "markdown",
   "metadata": {},
   "source": [
    "### **Passing objects in function**"
   ]
  },
  {
   "cell_type": "markdown",
   "metadata": {},
   "source": [
    "- numbers - immutable objects. Note that the id changes."
   ]
  },
  {
   "cell_type": "code",
   "execution_count": null,
   "metadata": {},
   "outputs": [],
   "source": [
    "n = 1\n",
    "print(n, id(n)) # 1 2076829352176\n",
    "\n",
    "def f(n):\n",
    "    n += 1\n",
    "    print(n, id(n)) # 2 2076829352208\n",
    "\n",
    "f(n)\n",
    "print(n, id(n)) # 1 2076829352176"
   ]
  },
  {
   "cell_type": "markdown",
   "metadata": {},
   "source": [
    "- lists - mutable object. Note that the id remains the same."
   ]
  },
  {
   "cell_type": "code",
   "execution_count": null,
   "metadata": {},
   "outputs": [],
   "source": [
    "arr = [1, 2, 3]\n",
    "print(arr, id(arr)) # [1, 2, 3] 2076931627264\n",
    "\n",
    "def func(arr):\n",
    "    arr.append(4)\n",
    "    print(arr, id(arr)) # [1, 2, 3, 4] 2076931627264\n",
    "\n",
    "func(arr)\n",
    "print(arr, id(arr)) # [1, 2, 3, 4] 2076931627264"
   ]
  },
  {
   "cell_type": "markdown",
   "metadata": {},
   "source": [
    "- string - immutable object"
   ]
  },
  {
   "cell_type": "code",
   "execution_count": null,
   "metadata": {},
   "outputs": [],
   "source": [
    "s = 'abc'\n",
    "print(s, id(s)) # abc 2076834978160\n",
    "\n",
    "def func(s):\n",
    "    s += 'xyz'\n",
    "    print(s, id(s)) # abcxyz 2076909883568\n",
    "\n",
    "func(s)\n",
    "print(s, id(s)) # abc 2076834978160"
   ]
  },
  {
   "cell_type": "markdown",
   "metadata": {},
   "source": [
    "Note id() function behavior:"
   ]
  },
  {
   "cell_type": "code",
   "execution_count": null,
   "metadata": {},
   "outputs": [],
   "source": [
    "a = 10\n",
    "id(a) == id(10) # True"
   ]
  },
  {
   "cell_type": "markdown",
   "metadata": {},
   "source": [
    "### **Bigint**"
   ]
  },
  {
   "cell_type": "markdown",
   "metadata": {},
   "source": [
    "Small numbers are class int:"
   ]
  },
  {
   "cell_type": "code",
   "execution_count": null,
   "metadata": {},
   "outputs": [],
   "source": [
    "a = 4\n",
    "print(a) # 4\n",
    "print(type(a)) # <class 'int'>"
   ]
  },
  {
   "cell_type": "markdown",
   "metadata": {},
   "source": [
    "Big numbers are class int (since Python 3.0+):"
   ]
  },
  {
   "cell_type": "code",
   "execution_count": null,
   "metadata": {},
   "outputs": [],
   "source": [
    "b = 2 ** 1024\n",
    "print(b) # 179769313486231... (309 digits)\n",
    "print(type(b))"
   ]
  },
  {
   "cell_type": "code",
   "execution_count": null,
   "metadata": {},
   "outputs": [],
   "source": [
    "len('179769313486231590772930519078902473361797697894230657273430081157732675805500963132708477322407536021120113879871393357658789768814416622492847430639474124377767893424865485276302219601246094119453082952085005768838150682342462881473913110540827237163350510684586298239947245938479716304835356329624224137216')"
   ]
  },
  {
   "cell_type": "markdown",
   "metadata": {},
   "source": [
    "The size in bytes of each int varies:"
   ]
  },
  {
   "cell_type": "code",
   "execution_count": null,
   "metadata": {},
   "outputs": [],
   "source": [
    "import sys\n",
    "a = 4\n",
    "print(sys.getsizeof(a)) # 28\n",
    "\n",
    "b = 2 ** 1024\n",
    "print(sys.getsizeof(b)) # 124"
   ]
  },
  {
   "cell_type": "markdown",
   "metadata": {},
   "source": [
    "Python dynamically allocates the needed memory:"
   ]
  },
  {
   "cell_type": "code",
   "execution_count": null,
   "metadata": {},
   "outputs": [],
   "source": [
    "from math import log10\n",
    "\n",
    "c = (2 ** 1024) ** 100\n",
    "\n",
    "print(log10(c)) # 30825.471555991677 (the digits of c)\n",
    "print(sys.getsizeof(c)) # 13680"
   ]
  },
  {
   "cell_type": "markdown",
   "metadata": {},
   "source": [
    "The maximum size an integer can be in bytes is:"
   ]
  },
  {
   "cell_type": "code",
   "execution_count": null,
   "metadata": {},
   "outputs": [],
   "source": [
    "print(sys.maxsize) # 9223372036854775807 "
   ]
  },
  {
   "cell_type": "markdown",
   "metadata": {},
   "source": [
    "### **List comprehension**"
   ]
  },
  {
   "cell_type": "markdown",
   "metadata": {},
   "source": [
    "The naive way:"
   ]
  },
  {
   "cell_type": "code",
   "execution_count": null,
   "metadata": {},
   "outputs": [],
   "source": [
    "arr = []\n",
    "\n",
    "for i in range(10):\n",
    "    if i % 2 == 0:\n",
    "        arr.append(i)\n",
    "\n",
    "print(arr) # [0, 2, 4, 6, 8]"
   ]
  },
  {
   "cell_type": "markdown",
   "metadata": {},
   "source": [
    "The faster, more elegant way:"
   ]
  },
  {
   "cell_type": "code",
   "execution_count": null,
   "metadata": {},
   "outputs": [],
   "source": [
    "arr = [i for i in range(10) if i % 2 == 0]\n",
    "print(arr) # [0, 2, 4, 6, 8]"
   ]
  },
  {
   "cell_type": "markdown",
   "metadata": {},
   "source": [
    "An else clause is also possible:"
   ]
  },
  {
   "cell_type": "code",
   "execution_count": null,
   "metadata": {},
   "outputs": [],
   "source": [
    "arr = [i ** 2 if i % 2 == 0 else -(i ** 2) for i in range(10)]\n",
    "print(arr) # [0, -1, 4, -9, 16, -25, 36, -49, 64, -81]"
   ]
  },
  {
   "cell_type": "markdown",
   "metadata": {},
   "source": [
    "Multiple fors are also possible:"
   ]
  },
  {
   "cell_type": "code",
   "execution_count": null,
   "metadata": {},
   "outputs": [],
   "source": [
    "arr = [(i, j) for i in range(3) for j in 'XY']\n",
    "print(arr) # [(0, 'X'), (0, 'Y'), (1, 'X'), (1, 'Y'), (2, 'X'), (2, 'Y')]"
   ]
  }
 ],
 "metadata": {
  "kernelspec": {
   "display_name": "Python 3",
   "language": "python",
   "name": "python3"
  },
  "language_info": {
   "codemirror_mode": {
    "name": "ipython",
    "version": 3
   },
   "file_extension": ".py",
   "mimetype": "text/x-python",
   "name": "python",
   "nbconvert_exporter": "python",
   "pygments_lexer": "ipython3",
   "version": "3.10.11"
  },
  "orig_nbformat": 4
 },
 "nbformat": 4,
 "nbformat_minor": 2
}
