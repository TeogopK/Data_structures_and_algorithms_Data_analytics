{
 "cells": [
  {
   "cell_type": "markdown",
   "metadata": {},
   "source": [
    "## **Code playground for SDA sem 2**"
   ]
  },
  {
   "cell_type": "markdown",
   "metadata": {},
   "source": [
    "### **Copy() vs Deepcopy()**"
   ]
  },
  {
   "cell_type": "markdown",
   "metadata": {},
   "source": [
    "Using *operator =*. Changes in *father*/ *child* **change both** *child* and *father*:"
   ]
  },
  {
   "cell_type": "code",
   "execution_count": null,
   "metadata": {},
   "outputs": [],
   "source": [
    "father = [i for i in range(5)]\n",
    "child = father\n",
    "\n",
    "father.insert(2, 99) # same with child.insert()\n",
    "\n",
    "print(\"Father: \", father) # [0, 1, 99, 2, 3, 4]\n",
    "print(\"Child: \", child) # [0, 1, 99, 2, 3, 4]"
   ]
  },
  {
   "cell_type": "markdown",
   "metadata": {},
   "source": [
    "Note that *child* and *father* **are both the same** object:"
   ]
  },
  {
   "cell_type": "code",
   "execution_count": null,
   "metadata": {},
   "outputs": [],
   "source": [
    "print(id(child) == id(father)) # True"
   ]
  },
  {
   "cell_type": "markdown",
   "metadata": {},
   "source": [
    "Using method *copy()*. Changes in *father* **do not affect** *child*:"
   ]
  },
  {
   "cell_type": "code",
   "execution_count": null,
   "metadata": {},
   "outputs": [],
   "source": [
    "father = [i for i in range(5)]\n",
    "child = father.copy()\n",
    "\n",
    "father.insert(2, 99)\n",
    "\n",
    "print(\"Father: \", father)   # [0, 1, 99, 2, 3, 4]\n",
    "print(\"Child: \", child)     # [0, 1, 2, 3, 4]"
   ]
  },
  {
   "cell_type": "markdown",
   "metadata": {},
   "source": [
    "Note that *child* and *father* **are different** objects:"
   ]
  },
  {
   "cell_type": "code",
   "execution_count": null,
   "metadata": {},
   "outputs": [],
   "source": [
    "print(id(child) != id(father)) # True"
   ]
  },
  {
   "cell_type": "markdown",
   "metadata": {},
   "source": [
    "Using *copy()* on compound object. Changes in the mutable object part of *father* (*inner_list*) **are seen** in *child* as well:"
   ]
  },
  {
   "cell_type": "code",
   "execution_count": null,
   "metadata": {},
   "outputs": [],
   "source": [
    "from copy import copy\n",
    "\n",
    "inner_list = [4, 5]\n",
    "\n",
    "father = [1, 2, 3, inner_list]\n",
    "child = copy(father)\n",
    "\n",
    "father[3].append(6) # equals inner_list.append(6)\n",
    "\n",
    "print(\"Father: \", father)   # [1, 2, 3, [4, 5, 6]]\n",
    "print(\"Child: \", child)     # [1, 2, 3, [4, 5, 6]]"
   ]
  },
  {
   "cell_type": "markdown",
   "metadata": {},
   "source": [
    "*Father* and *child* **are different** objects, but their **compound parts are the same**:"
   ]
  },
  {
   "cell_type": "code",
   "execution_count": null,
   "metadata": {},
   "outputs": [],
   "source": [
    "print(id(child) != id(father)) # True\n",
    "print(id(child[3]) == id(father[3])) # True"
   ]
  },
  {
   "cell_type": "markdown",
   "metadata": {},
   "source": [
    "Using *deepcopy()* on compound object. Changes in the mutable object part of *father* (*inner_list*) **do not affect** *child*:"
   ]
  },
  {
   "cell_type": "code",
   "execution_count": null,
   "metadata": {},
   "outputs": [],
   "source": [
    "from copy import deepcopy\n",
    "\n",
    "inner_list = [4, 5]\n",
    "\n",
    "father = [1, 2, 3, inner_list]\n",
    "child = deepcopy(father)\n",
    "\n",
    "father[3].append(6)\n",
    "\n",
    "print(\"Father: \", father)   # [1, 2, 3, [4, 5, 6]]\n",
    "print(\"Child: \", child)     # [1, 2, 3, [4, 5]"
   ]
  },
  {
   "cell_type": "markdown",
   "metadata": {},
   "source": [
    "*Father* and *child* **are different** objects, and their **compound parts are also different** objects:"
   ]
  },
  {
   "cell_type": "code",
   "execution_count": null,
   "metadata": {},
   "outputs": [],
   "source": [
    "print(id(child) != id(father)) # True\n",
    "print(id(child[3]) != id(father[3])) # True"
   ]
  },
  {
   "cell_type": "markdown",
   "metadata": {},
   "source": [
    "## Filter()"
   ]
  },
  {
   "cell_type": "markdown",
   "metadata": {},
   "source": [
    "Using defined function:"
   ]
  },
  {
   "cell_type": "code",
   "execution_count": null,
   "metadata": {},
   "outputs": [],
   "source": [
    "arr = [i for i in range(10)]\n",
    "\n",
    "def check_if_even(x):\n",
    "    return x % 2 == 0\n",
    "\n",
    "even_arr = list(filter(check_if_even, arr))\n",
    "print(even_arr) # [0, 2, 4, 6, 8]"
   ]
  },
  {
   "cell_type": "markdown",
   "metadata": {},
   "source": [
    "Using anonymous function (lambda expression):"
   ]
  },
  {
   "cell_type": "code",
   "execution_count": null,
   "metadata": {},
   "outputs": [],
   "source": [
    "arr = [i for i in range(10)]\n",
    "\n",
    "even_arr = list(filter(lambda x: x % 2 == 0, arr))\n",
    "print(even_arr) # [0, 2, 4, 6, 8]"
   ]
  },
  {
   "cell_type": "markdown",
   "metadata": {},
   "source": [
    "### **Time complexity**"
   ]
  },
  {
   "cell_type": "markdown",
   "metadata": {},
   "source": [
    "- *O(1)* - Returning a constant:"
   ]
  },
  {
   "cell_type": "code",
   "execution_count": null,
   "metadata": {},
   "outputs": [],
   "source": [
    "def get_Pi():\n",
    "    return 3.14\n",
    "\n",
    "print(get_Pi())"
   ]
  },
  {
   "cell_type": "markdown",
   "metadata": {},
   "source": [
    "- *O(1)* - Returning an element on a specific position in list:"
   ]
  },
  {
   "cell_type": "code",
   "execution_count": null,
   "metadata": {},
   "outputs": [],
   "source": [
    "def get_5th_element(arr):\n",
    "    return arr[5]\n",
    "\n",
    "arr = [i for i in range(0, 100, 5)]\n",
    "print(get_5th_element(arr)) # 25"
   ]
  },
  {
   "cell_type": "markdown",
   "metadata": {},
   "source": [
    "- *O(N)* - Looping once through an array of size N:"
   ]
  },
  {
   "cell_type": "code",
   "execution_count": null,
   "metadata": {},
   "outputs": [],
   "source": [
    "for value in arr:\n",
    "    print(value)"
   ]
  },
  {
   "cell_type": "markdown",
   "metadata": {},
   "source": [
    "*O(N<sup>2</sup>)* - Looping through an array of size N N times (using inner loop)."
   ]
  },
  {
   "cell_type": "code",
   "execution_count": null,
   "metadata": {},
   "outputs": [],
   "source": [
    "N = 100\n",
    "\n",
    "for i in range(N):\n",
    "    for j in range(N):\n",
    "        print(i, j)"
   ]
  },
  {
   "cell_type": "markdown",
   "metadata": {},
   "source": [
    "*O(2<sup>N</sup>)* - Finding the N-th number in the Fibonacci sequence. Each call spawns two new calls."
   ]
  },
  {
   "cell_type": "code",
   "execution_count": null,
   "metadata": {},
   "outputs": [],
   "source": [
    "def fibonacci(N):\n",
    "    if N <= 1:\n",
    "        return N\n",
    "    return fibonacci(N-1) + fibonacci(N-2)\n",
    "\n",
    "N = 30 # Do not try with bigger than 40\n",
    "print(fibonacci(N))"
   ]
  },
  {
   "cell_type": "markdown",
   "metadata": {},
   "source": [
    "*O(logN)* - Finding how many times can N be divided by two."
   ]
  },
  {
   "cell_type": "code",
   "execution_count": null,
   "metadata": {},
   "outputs": [],
   "source": [
    "def count_deuces(N, count = 0):\n",
    "    if N <= 1:\n",
    "        return count\n",
    "    \n",
    "    count += 1\n",
    "    return count_deuces(N // 2, count)\n",
    "\n",
    "print(count_deuces(100)) # 6 -> 2 ** 6 = 64 "
   ]
  },
  {
   "cell_type": "markdown",
   "metadata": {},
   "source": [
    "Variant without recursion:"
   ]
  },
  {
   "cell_type": "code",
   "execution_count": null,
   "metadata": {},
   "outputs": [],
   "source": [
    "def count_deuces_simple(N):\n",
    "    count = 0\n",
    "\n",
    "    while N > 1:\n",
    "        N //= 2\n",
    "        count += 1\n",
    "        \n",
    "    return count\n",
    "\n",
    "print(count_deuces_simple(100)) # 6 -> 2 ** 6 = 64 "
   ]
  },
  {
   "cell_type": "markdown",
   "metadata": {},
   "source": [
    "*O(N + M)* - Looping through two arrays, one of size N, and the other of size M."
   ]
  },
  {
   "cell_type": "code",
   "execution_count": null,
   "metadata": {},
   "outputs": [],
   "source": [
    "def brothers(N, M):\n",
    "    for i in range(N):\n",
    "        print(i)\n",
    "\n",
    "    for j in range(M):\n",
    "        print(j)\n",
    "\n",
    "brothers(10, 100)"
   ]
  }
 ],
 "metadata": {
  "kernelspec": {
   "display_name": "Python 3",
   "language": "python",
   "name": "python3"
  },
  "language_info": {
   "codemirror_mode": {
    "name": "ipython",
    "version": 3
   },
   "file_extension": ".py",
   "mimetype": "text/x-python",
   "name": "python",
   "nbconvert_exporter": "python",
   "pygments_lexer": "ipython3",
   "version": "3.10.11"
  }
 },
 "nbformat": 4,
 "nbformat_minor": 2
}
