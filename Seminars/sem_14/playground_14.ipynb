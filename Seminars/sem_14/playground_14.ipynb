{
 "cells": [
  {
   "cell_type": "markdown",
   "metadata": {},
   "source": [
    "## **Code playground for SDA sem 14**"
   ]
  },
  {
   "cell_type": "markdown",
   "metadata": {},
   "source": [
    "# Minimum spanning tree"
   ]
  },
  {
   "cell_type": "markdown",
   "metadata": {},
   "source": [
    "## Prim's algorithm"
   ]
  },
  {
   "cell_type": "markdown",
   "metadata": {},
   "source": [
    "Lets consider the following weighted undirected graph."
   ]
  },
  {
   "cell_type": "code",
   "execution_count": 2,
   "metadata": {},
   "outputs": [],
   "source": [
    "weighted_graph = {\n",
    "    1: [(2, 3), (4, 1)],\n",
    "    2: [(1, 3), (3, 4)],\n",
    "    3: [(2, 4), (4, 4)],\n",
    "    4: [(1, 1), (3, 4), (5, 5)],\n",
    "    5: [(4, 5)]   \n",
    "}"
   ]
  },
  {
   "cell_type": "markdown",
   "metadata": {},
   "source": [
    "![Weighted graph example](media/weighted_graph.png)"
   ]
  },
  {
   "cell_type": "markdown",
   "metadata": {},
   "source": [
    "Prim's algorithm finds a Minimum spanning tree in a weighted graph:"
   ]
  },
  {
   "cell_type": "code",
   "execution_count": 10,
   "metadata": {},
   "outputs": [
    {
     "name": "stdout",
     "output_type": "stream",
     "text": [
      "13\n"
     ]
    }
   ],
   "source": [
    "from heapq import heappush, heappop\n",
    "\n",
    "def prim(start, V, graph):\n",
    "    visited = set()\n",
    "    pq = [(0, start)]\n",
    "    mst_weight = 0\n",
    "    \n",
    "    while len(visited) != V:\n",
    "        current_weight, current_vertex = heappop(pq)\n",
    "        \n",
    "        if current_vertex in visited:\n",
    "            continue\n",
    "        \n",
    "        visited.add(current_vertex)\n",
    "        mst_weight += current_weight\n",
    "        \n",
    "        for neighb, weight in graph[current_vertex]:\n",
    "            if neighb in visited:\n",
    "                continue\n",
    "                            \n",
    "            heappush(pq, (weight, neighb))\n",
    "    \n",
    "    return mst_weight\n",
    "\n",
    "start = 1\n",
    "V = 5\n",
    "mst_weight = prim(start, V, weighted_graph)\n",
    "print(mst_weight)"
   ]
  },
  {
   "cell_type": "markdown",
   "metadata": {},
   "source": [
    "Verbose version:"
   ]
  },
  {
   "cell_type": "code",
   "execution_count": 20,
   "metadata": {},
   "outputs": [
    {
     "name": "stdout",
     "output_type": "stream",
     "text": [
      "Edge with weight 0 to vertex 1 added to MST.\n",
      "Edge with weight 1 to vertex 4 added to MST.\n",
      "Edge with weight 3 to vertex 2 added to MST.\n",
      "Edge with weight 4 to vertex 3 added to MST.\n",
      "Skipping edge with weight 4 to visited vertex 3. {1, 2, 3, 4}\n",
      "Edge with weight 5 to vertex 5 added to MST.\n",
      "Edges that are not used:  []\n",
      "Total weight of MST = 13\n"
     ]
    }
   ],
   "source": [
    "from heapq import heappush, heappop\n",
    "\n",
    "def prim(start, V, graph):\n",
    "    visited = set()\n",
    "    pq = [(0, start)]\n",
    "    mst_weight = 0\n",
    "    \n",
    "    while len(visited) != V:\n",
    "        current_weight, current_vertex = heappop(pq)\n",
    "        \n",
    "        if current_vertex in visited:\n",
    "            print(f\"Skipping edge with weight {current_weight} to visited vertex {current_vertex}.\", visited)\n",
    "            continue\n",
    "        \n",
    "        print(f\"Edge with weight {current_weight} to vertex {current_vertex} added to MST.\")\n",
    "        visited.add(current_vertex)\n",
    "        mst_weight += current_weight\n",
    "        \n",
    "        for neighb, weight in graph[current_vertex]:\n",
    "            if neighb in visited:\n",
    "                continue\n",
    "                            \n",
    "            heappush(pq, (weight, neighb))\n",
    "    \n",
    "    print(\"Edges that are not used: \", pq)\n",
    "    return mst_weight\n",
    "\n",
    "start = 1\n",
    "V = 5\n",
    "mst_weight = prim(start, V, weighted_graph)\n",
    "print(\"Total weight of MST =\", mst_weight)"
   ]
  },
  {
   "cell_type": "markdown",
   "metadata": {},
   "source": [
    "Note that the edge with minimum weight on some iterations may not be used, because it will create a cycle. Moreover, if the graph is bigger there might be edges that are still left in the priority queue. The algorithm can stop without iterating over them because the minimum spanning tree has been found when the tree has *V - 1* edges. The algorithm skips some edges that is why the while loop does not have a fixed amount of iterations (*V - 1*)."
   ]
  },
  {
   "cell_type": "markdown",
   "metadata": {},
   "source": [
    "## Kruskal's algorithm"
   ]
  }
 ],
 "metadata": {
  "kernelspec": {
   "display_name": "Python 3",
   "language": "python",
   "name": "python3"
  },
  "language_info": {
   "codemirror_mode": {
    "name": "ipython",
    "version": 3
   },
   "file_extension": ".py",
   "mimetype": "text/x-python",
   "name": "python",
   "nbconvert_exporter": "python",
   "pygments_lexer": "ipython3",
   "version": "3.10.11"
  }
 },
 "nbformat": 4,
 "nbformat_minor": 2
}
