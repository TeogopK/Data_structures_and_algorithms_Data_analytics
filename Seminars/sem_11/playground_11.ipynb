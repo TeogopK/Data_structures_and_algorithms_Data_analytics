{
 "cells": [
  {
   "cell_type": "markdown",
   "metadata": {},
   "source": [
    "## **Code playground for SDA sem 11**"
   ]
  },
  {
   "cell_type": "markdown",
   "metadata": {},
   "source": [
    "# Set"
   ]
  },
  {
   "cell_type": "code",
   "execution_count": 1,
   "metadata": {},
   "outputs": [
    {
     "name": "stdout",
     "output_type": "stream",
     "text": [
      "{1, 2, 3}\n",
      "{1, 3}\n"
     ]
    }
   ],
   "source": [
    "# We do not need to import anything\n",
    "\n",
    "s = set()\n",
    "\n",
    "s.add(1) # O(1)\n",
    "s.add(2) # O(1)\n",
    "s.add(3) # O(1)\n",
    "\n",
    "print(s)\n",
    "\n",
    "s.remove(2) # O(1)\n",
    "\n",
    "print(s)"
   ]
  },
  {
   "cell_type": "markdown",
   "metadata": {},
   "source": [
    "Note: Elements in the set will not be sorted. Generally the usage of the structure is to check whether we have an element in the set."
   ]
  },
  {
   "cell_type": "code",
   "execution_count": 2,
   "metadata": {},
   "outputs": [
    {
     "data": {
      "text/plain": [
       "9950263"
      ]
     },
     "execution_count": 2,
     "metadata": {},
     "output_type": "execute_result"
    }
   ],
   "source": [
    "import random\n",
    "lst = [random.randint(1, 1_000_000_000) for _ in range(10_000_000)]\n",
    "s = set(lst) # O(N = 10_000_000)\n",
    "len(s) # O(1)"
   ]
  },
  {
   "cell_type": "markdown",
   "metadata": {},
   "source": [
    "We have added almost 10M random numbers into a set. Now let's see how long it takes to check if a number is in it."
   ]
  },
  {
   "cell_type": "code",
   "execution_count": 3,
   "metadata": {},
   "outputs": [
    {
     "name": "stdout",
     "output_type": "stream",
     "text": [
      "18.6 ns ± 0.228 ns per loop (mean ± std. dev. of 7 runs, 100,000,000 loops each)\n"
     ]
    }
   ],
   "source": [
    "%timeit 123456 in s # O(1)"
   ]
  },
  {
   "cell_type": "markdown",
   "metadata": {},
   "source": [
    "Nice, looks like it is fast, but how much faster than searching in a list is it?"
   ]
  },
  {
   "cell_type": "code",
   "execution_count": 4,
   "metadata": {},
   "outputs": [
    {
     "name": "stdout",
     "output_type": "stream",
     "text": [
      "57.5 ms ± 2.74 ms per loop (mean ± std. dev. of 7 runs, 10 loops each)\n"
     ]
    }
   ],
   "source": [
    "%timeit 123456 in lst # O(N)"
   ]
  },
  {
   "cell_type": "markdown",
   "metadata": {},
   "source": [
    "1ms = 1,000,000ns meaning that it is roughly 500,000 times faster! "
   ]
  },
  {
   "cell_type": "code",
   "execution_count": 5,
   "metadata": {},
   "outputs": [
    {
     "name": "stdout",
     "output_type": "stream",
     "text": [
      "1000000\n",
      "632558\n"
     ]
    }
   ],
   "source": [
    "lst = [random.randint(1, 1_000_000) for _ in range(1_000_000)]\n",
    "print(len(lst))\n",
    "lst = list(set(lst)) # O(N) - classic way of deduplicating a list\n",
    "print(len(lst))"
   ]
  },
  {
   "cell_type": "markdown",
   "metadata": {},
   "source": [
    "# Dict"
   ]
  },
  {
   "cell_type": "code",
   "execution_count": 6,
   "metadata": {},
   "outputs": [
    {
     "name": "stdout",
     "output_type": "stream",
     "text": [
      "[20, 30]\n",
      "['Preso', 'Tedo']\n",
      "[(20, 'Preso'), (30, 'Tedo')]\n"
     ]
    }
   ],
   "source": [
    "d = {\n",
    "    20: \"Preso\",\n",
    "    30: \"Tedo\",\n",
    "}\n",
    "\n",
    "print(list(d.keys())) # Getting all the keys\n",
    "print(list(d.values())) # Getting all the values\n",
    "print(list(d.items())) # Getting all the keys and values as a list of tuples"
   ]
  },
  {
   "cell_type": "code",
   "execution_count": 7,
   "metadata": {},
   "outputs": [
    {
     "name": "stdout",
     "output_type": "stream",
     "text": [
      "Tedo\n",
      "False\n",
      "None\n",
      "This is a default value that gets returned if the key is not found\n"
     ]
    }
   ],
   "source": [
    "print(d[30]) # O(1)\n",
    "print(10 in d) # O(1) -> Checks the keys of the dictionary (since they are hashed)\n",
    "print(d.get(10)) # (1) -> Safe way to get element instead of [], it returns None if the element is not present\n",
    "print(d.get(10, \"This is a default value that gets returned if the key is not found\")) # (1) -> We can also set a default value"
   ]
  },
  {
   "cell_type": "markdown",
   "metadata": {},
   "source": [
    "What objects can be put inside a dict (as keys) and inside a set? We can only put immutable and hashable objects inside the hashmap data structures."
   ]
  },
  {
   "cell_type": "code",
   "execution_count": 8,
   "metadata": {},
   "outputs": [
    {
     "ename": "TypeError",
     "evalue": "unhashable type: 'list'",
     "output_type": "error",
     "traceback": [
      "\u001b[1;31m---------------------------------------------------------------------------\u001b[0m",
      "\u001b[1;31mTypeError\u001b[0m                                 Traceback (most recent call last)",
      "Cell \u001b[1;32mIn[8], line 2\u001b[0m\n\u001b[0;32m      1\u001b[0m s \u001b[38;5;241m=\u001b[39m \u001b[38;5;28mset\u001b[39m()\n\u001b[1;32m----> 2\u001b[0m \u001b[43ms\u001b[49m\u001b[38;5;241;43m.\u001b[39;49m\u001b[43madd\u001b[49m\u001b[43m(\u001b[49m\u001b[43m[\u001b[49m\u001b[38;5;241;43m1\u001b[39;49m\u001b[43m,\u001b[49m\u001b[38;5;241;43m2\u001b[39;49m\u001b[43m,\u001b[49m\u001b[38;5;241;43m3\u001b[39;49m\u001b[43m]\u001b[49m\u001b[43m)\u001b[49m \u001b[38;5;66;03m# Lists are mutable\u001b[39;00m\n",
      "\u001b[1;31mTypeError\u001b[0m: unhashable type: 'list'"
     ]
    }
   ],
   "source": [
    "s = set()\n",
    "s.add([1,2,3]) # Lists are mutable"
   ]
  },
  {
   "cell_type": "code",
   "execution_count": 8,
   "metadata": {},
   "outputs": [],
   "source": [
    "s = set()\n",
    "s.add((1,2,3)) # Tuples are immutable"
   ]
  },
  {
   "cell_type": "code",
   "execution_count": 9,
   "metadata": {},
   "outputs": [
    {
     "name": "stdout",
     "output_type": "stream",
     "text": [
      "{'1,2,3'}\n"
     ]
    }
   ],
   "source": [
    "s = set()\n",
    "\n",
    "lst = [1,2,3]\n",
    "lst_s = ','.join(map(str, lst)) # Convert the list to string\n",
    "\n",
    "s.add(lst_s) # Hash it\n",
    "\n",
    "print(s)"
   ]
  },
  {
   "cell_type": "markdown",
   "metadata": {},
   "source": [
    "Let's check how our tuple from above is being hashed by it's *\\_\\_hash\\_\\_* dunder method"
   ]
  },
  {
   "cell_type": "code",
   "execution_count": 10,
   "metadata": {},
   "outputs": [
    {
     "name": "stdout",
     "output_type": "stream",
     "text": [
      "529344067295497451\n",
      "529344067295497451\n"
     ]
    }
   ],
   "source": [
    "obj = (1,2,3)\n",
    "num = 529344067295497451\n",
    "\n",
    "print(obj.__hash__())\n",
    "print(num.__hash__()) # -> Two objects with the same hash, but the builtin python dict and set can deal with collision"
   ]
  },
  {
   "cell_type": "code",
   "execution_count": 15,
   "metadata": {},
   "outputs": [
    {
     "name": "stdout",
     "output_type": "stream",
     "text": [
      "None\n"
     ]
    }
   ],
   "source": [
    "lst = [1,2,3]\n",
    "\n",
    "print(lst.__hash__) # Doesn't have a hash method"
   ]
  },
  {
   "cell_type": "code",
   "execution_count": 12,
   "metadata": {},
   "outputs": [
    {
     "data": {
      "text/plain": [
       "3"
      ]
     },
     "execution_count": 12,
     "metadata": {},
     "output_type": "execute_result"
    }
   ],
   "source": [
    "obj = 3\n",
    "obj.__hash__()"
   ]
  },
  {
   "cell_type": "code",
   "execution_count": 13,
   "metadata": {},
   "outputs": [
    {
     "name": "stdout",
     "output_type": "stream",
     "text": [
      "100000000000000000000\n",
      "848750603811160107\n"
     ]
    }
   ],
   "source": [
    "num = int(1e20)\n",
    "print(num)\n",
    "print(num.__hash__())"
   ]
  },
  {
   "cell_type": "code",
   "execution_count": 14,
   "metadata": {},
   "outputs": [
    {
     "name": "stdout",
     "output_type": "stream",
     "text": [
      "1723742387674067882\n",
      "1723742387674067882\n"
     ]
    }
   ],
   "source": [
    "s1 = 'http://stackoverflow.com'\n",
    "print(s1.__hash__())\n",
    "s2 = 'http://stackoverflow.com'\n",
    "print(s2.__hash__())"
   ]
  }
 ],
 "metadata": {
  "kernelspec": {
   "display_name": "Python 3",
   "language": "python",
   "name": "python3"
  },
  "language_info": {
   "codemirror_mode": {
    "name": "ipython",
    "version": 3
   },
   "file_extension": ".py",
   "mimetype": "text/x-python",
   "name": "python",
   "nbconvert_exporter": "python",
   "pygments_lexer": "ipython3",
   "version": "3.10.11"
  }
 },
 "nbformat": 4,
 "nbformat_minor": 2
}
