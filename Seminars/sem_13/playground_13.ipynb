{
 "cells": [
  {
   "cell_type": "markdown",
   "metadata": {},
   "source": [
    "## **Code playground for SDA sem 13**"
   ]
  },
  {
   "cell_type": "markdown",
   "metadata": {},
   "source": [
    "# Shortest path in a Graph"
   ]
  },
  {
   "cell_type": "markdown",
   "metadata": {},
   "source": [
    "## Dijkstra's algorithm"
   ]
  },
  {
   "cell_type": "markdown",
   "metadata": {},
   "source": [
    "Lets consider the following weighted undirected graph."
   ]
  },
  {
   "cell_type": "code",
   "execution_count": 65,
   "metadata": {},
   "outputs": [],
   "source": [
    "undirected_graph = {\n",
    "    0: [(2, 7), (1, 1)],\n",
    "    1: [(0, 1), (2, 8), (3, 7), (4, 2)],\n",
    "    2: [(0, 7), (1, 8), (4, 3)],\n",
    "    3: [(1, 7), (4, 6)],\n",
    "    4: [(3, 6), (1, 2), (2, 3)]    \n",
    "}"
   ]
  },
  {
   "cell_type": "markdown",
   "metadata": {},
   "source": [
    "![Dijkstra undirected graph example](media/dijkstra_undirected_graph.png)"
   ]
  },
  {
   "cell_type": "markdown",
   "metadata": {},
   "source": [
    "Dijksta's algorithm can find the shortest distance from a given source vertex to all others:"
   ]
  },
  {
   "cell_type": "code",
   "execution_count": 66,
   "metadata": {},
   "outputs": [
    {
     "name": "stdout",
     "output_type": "stream",
     "text": [
      "[0, 1, 6, 8, 3]\n"
     ]
    }
   ],
   "source": [
    "from heapq import heappop, heappush\n",
    "INF = float('infinity')\n",
    "\n",
    "def dijkstra(start, V, graph):\n",
    "    distances = [INF] * V\n",
    "    distances[start] = 0\n",
    "\n",
    "    visited = set()\n",
    "    \n",
    "    pq = [(0, start)]\n",
    "    \n",
    "    while pq:\n",
    "        total_weight, current = heappop(pq)\n",
    "        \n",
    "        if current in visited:\n",
    "            continue\n",
    "        visited.add(current)\n",
    "        \n",
    "        for neighb, added_weight in graph[current]:\n",
    "            if neighb in visited:\n",
    "                continue\n",
    "                \n",
    "            new_weight = total_weight + added_weight\n",
    "            \n",
    "            if distances[neighb] == INF or new_weight < distances[neighb]:\n",
    "                distances[neighb] = new_weight\n",
    "                heappush(pq, (new_weight, neighb))\n",
    "    \n",
    "    return distances\n",
    "\n",
    "start = 0\n",
    "V = 5\n",
    "distances = dijkstra(start, V, undirected_graph)\n",
    "print(distances) # [0, 1, 6, 8, 3]"
   ]
  },
  {
   "cell_type": "markdown",
   "metadata": {},
   "source": [
    "Verbose version:"
   ]
  },
  {
   "cell_type": "code",
   "execution_count": 67,
   "metadata": {},
   "outputs": [
    {
     "name": "stdout",
     "output_type": "stream",
     "text": [
      "[0, inf, inf, inf, inf] Node: 0, distance = 0\n",
      "Check new distance to 2: 7 <? inf\n",
      "Check new distance to 1: 1 <? inf\n",
      "Priority Queue: [(1, 1), (7, 2)]\n",
      "\n",
      "[0, 1, 7, inf, inf] Node: 1, distance = 1\n",
      "Check new distance to 2: 9 <? 7\n",
      "Check new distance to 3: 8 <? inf\n",
      "Check new distance to 4: 3 <? inf\n",
      "Priority Queue: [(3, 4), (8, 3), (7, 2)]\n",
      "\n",
      "[0, 1, 7, 8, 3] Node: 4, distance = 3\n",
      "Check new distance to 3: 9 <? 8\n",
      "Check new distance to 2: 6 <? 7\n",
      "Priority Queue: [(6, 2), (8, 3), (7, 2)]\n",
      "\n",
      "[0, 1, 6, 8, 3] Node: 2, distance = 6\n",
      "Priority Queue: [(7, 2), (8, 3)]\n",
      "\n",
      "Node 2 has already been checked\n",
      "[0, 1, 6, 8, 3] Node: 3, distance = 8\n",
      "Priority Queue: []\n",
      "\n",
      "[0, 1, 6, 8, 3]\n"
     ]
    }
   ],
   "source": [
    "from heapq import heappop, heappush\n",
    "INF = float('infinity')\n",
    "\n",
    "def dijkstra_verbose(start, V, graph):\n",
    "    visited = set()\n",
    "\n",
    "    distances = [INF] * V\n",
    "    distances[start] = 0\n",
    "    \n",
    "    pq = [(0, start)]\n",
    "    \n",
    "    while pq:\n",
    "        total_weight, current = heappop(pq)\n",
    "\n",
    "        if current in visited:\n",
    "            print(f\"Node {current} has already been checked\")\n",
    "            continue\n",
    "        visited.add(current)\n",
    "\n",
    "        print(distances, f\"Node: {current}, distance = {total_weight}\")\n",
    "\n",
    "        for neighb, added_weight in graph[current]:\n",
    "            if neighb in visited:\n",
    "                continue\n",
    "            \n",
    "            new_weight = total_weight + added_weight\n",
    "            \n",
    "            print(f\"Check new distance to {neighb}: {new_weight} <? {distances[neighb]}\")\n",
    "            if distances[neighb] == INF or new_weight < distances[neighb]:\n",
    "                distances[neighb] = new_weight\n",
    "                heappush(pq, (new_weight, neighb))\n",
    "\n",
    "        print(\"Priority Queue:\", pq)\n",
    "        print()\n",
    "    \n",
    "    return distances\n",
    "\n",
    "start = 0\n",
    "V = 5\n",
    "distances = dijkstra_verbose(start, V, undirected_graph)\n",
    "print(distances) # [0, 1, 6, 8, 3]"
   ]
  },
  {
   "cell_type": "markdown",
   "metadata": {},
   "source": [
    "Note that after the third iteration the priority queue has the *vertex 2* two times. After the first *2* is popped from the priority queue, the optimal path to *vertex 2* was found. This means that each time we see the *vertex 2* being popped from the priority queue, the iteration can be skipped. Also there is no need to calculate a potential shorter path to an already visited vertex. That is where the visited array comes into play."
   ]
  },
  {
   "cell_type": "markdown",
   "metadata": {},
   "source": [
    "Dijkstra does not work for graph having a negative weight edge among positive ones:"
   ]
  },
  {
   "cell_type": "code",
   "execution_count": 68,
   "metadata": {},
   "outputs": [],
   "source": [
    "graph_negative_edge = {\n",
    "    0: [(1, 1), (2, 7), (3, 5)],\n",
    "    1: [(3, 1)],\n",
    "    2: [(1, -10)],\n",
    "    3: [],\n",
    "}"
   ]
  },
  {
   "cell_type": "markdown",
   "metadata": {},
   "source": [
    "![Dijkstra negative edge graph example](media/dijkstra_negative_edge_graph.png)"
   ]
  },
  {
   "cell_type": "markdown",
   "metadata": {},
   "source": [
    "The shortest path to *vertex 1* shall be *-3*, not *1*.\n",
    "Also the shortest path to *vertex 3* shall be *7 + (-10) + 1 = -2*. This is because *vertex 1* is popped from the priority queue first and no alternative paths are ever considered after that."
   ]
  },
  {
   "cell_type": "code",
   "execution_count": 69,
   "metadata": {},
   "outputs": [
    {
     "data": {
      "text/plain": [
       "[0, 1, 7, 2]"
      ]
     },
     "execution_count": 69,
     "metadata": {},
     "output_type": "execute_result"
    }
   ],
   "source": [
    "start = 0\n",
    "V = 4\n",
    "dijkstra(start, V, graph_negative_edge) # [0, 1, 7, 2]"
   ]
  },
  {
   "cell_type": "markdown",
   "metadata": {},
   "source": [
    "Dijkstra can be modified so that a vertex may enter the priority queue multiple times - removing the *visited set*. The new algorithm will work with negative edges, but this is a controversial topic if it is still Dijkstra's algorithm and not something similar to Bellman-Ford's."
   ]
  },
  {
   "cell_type": "code",
   "execution_count": 70,
   "metadata": {},
   "outputs": [
    {
     "data": {
      "text/plain": [
       "[0, -3, 7, -2]"
      ]
     },
     "execution_count": 70,
     "metadata": {},
     "output_type": "execute_result"
    }
   ],
   "source": [
    "from heapq import heappop, heappush\n",
    "INF = float('infinity')\n",
    "\n",
    "def dijkstra_modified(start, V, graph):\n",
    "    distances = [INF] * V\n",
    "    distances[start] = 0\n",
    "    \n",
    "    pq = [(0, start)]\n",
    "    \n",
    "    while pq:\n",
    "        total_weight, current = heappop(pq)\n",
    "        \n",
    "        for neighb, added_weight in graph[current]:\n",
    "            new_weight = total_weight + added_weight\n",
    "            \n",
    "            if distances[neighb] == INF or new_weight < distances[neighb]:\n",
    "                distances[neighb] = new_weight\n",
    "                heappush(pq, (new_weight, neighb))\n",
    "    \n",
    "    return distances\n",
    "\n",
    "start = 0\n",
    "V = 4\n",
    "dijkstra_modified(start, V, graph_negative_edge) # [0, -3, 7, -2]"
   ]
  }
 ],
 "metadata": {
  "kernelspec": {
   "display_name": "Python 3",
   "language": "python",
   "name": "python3"
  },
  "language_info": {
   "codemirror_mode": {
    "name": "ipython",
    "version": 3
   },
   "file_extension": ".py",
   "mimetype": "text/x-python",
   "name": "python",
   "nbconvert_exporter": "python",
   "pygments_lexer": "ipython3",
   "version": "3.10.11"
  }
 },
 "nbformat": 4,
 "nbformat_minor": 2
}
