{
 "cells": [
  {
   "cell_type": "markdown",
   "metadata": {},
   "source": [
    "## **Code playground for SDA sem 9**"
   ]
  },
  {
   "cell_type": "markdown",
   "metadata": {},
   "source": [
    "### Heap"
   ]
  },
  {
   "cell_type": "markdown",
   "metadata": {},
   "source": [
    "Implementing a heap can be done using an array."
   ]
  },
  {
   "cell_type": "code",
   "execution_count": 4,
   "metadata": {},
   "outputs": [],
   "source": [
    "class MinHeap:\n",
    "    def __init__(self):\n",
    "        self.h = []\n",
    "    \n",
    "    def get_left_index(self, index):\n",
    "        return 2*index + 1\n",
    "    \n",
    "    def get_right_index(self, index):\n",
    "        return 2*index + 2\n",
    "    \n",
    "    def get_parent_index(self, index):\n",
    "        return (index - 1) // 2\n",
    "    \n",
    "    def top(self):\n",
    "        return self.h[0]\n",
    "    \n",
    "    def size(self):\n",
    "        return len(self.h)\n",
    "    \n",
    "    def insert(self, val):\n",
    "        new_index = self.size()\n",
    "        self.h.append(val)\n",
    "\n",
    "        child = new_index\n",
    "        parent = self.get_parent_index(child)\n",
    "\n",
    "        while child > 0 and self.h[parent] > self.h[child]:\n",
    "            self.h[parent], self.h[child] = self.h[child], self.h[parent]\n",
    "            child = parent\n",
    "            parent = self.get_parent_index(child)\n",
    "\n",
    "    def pop(self):\n",
    "        last_index = self.size() - 1\n",
    "        if last_index < 0:\n",
    "            return None\n",
    "        \n",
    "        val = self.h[0]\n",
    "        self.h[0] = self.h[last_index]\n",
    "\n",
    "        del[self.h[last_index]]\n",
    "        self.heapify(0)\n",
    "\n",
    "        return val\n",
    "\n",
    "    def heapify(self, index):\n",
    "        l = self.get_left_index(index)\n",
    "        r = self.get_right_index(index)\n",
    "\n",
    "        min_index = index\n",
    "        if l < self.size() and self.h[l] < self.h[min_index]:\n",
    "            min_index = l\n",
    "        \n",
    "        if r < self.size() and self.h[r] < self.h[min_index]:\n",
    "            min_index = r\n",
    "\n",
    "        if min_index != index:\n",
    "            self.h[min_index], self.h[index] = self.h[index], self.h[min_index]\n",
    "            self.heapify(min_index)"
   ]
  },
  {
   "cell_type": "code",
   "execution_count": 5,
   "metadata": {},
   "outputs": [
    {
     "name": "stdout",
     "output_type": "stream",
     "text": [
      "[7]\n",
      "[3, 7]\n",
      "[3, 7, 4]\n",
      "[3, 7, 4, 9]\n",
      "[3, 6, 4, 9, 7]\n",
      "[1, 6, 3, 9, 7, 4]\n",
      "[1, 6, 3, 9, 7, 4]\n",
      "1\n",
      "[3, 6, 4, 9, 7]\n",
      "3\n",
      "[4, 6, 7, 9]\n",
      "4\n",
      "[6, 9, 7]\n",
      "6\n",
      "[7, 9]\n",
      "7\n",
      "[9]\n",
      "9\n"
     ]
    }
   ],
   "source": [
    "my_heap = MinHeap()\n",
    "\n",
    "arr = [7, 3, 4, 9, 6, 1]\n",
    "\n",
    "for el in arr:\n",
    "    my_heap.insert(el)\n",
    "    print(my_heap.h)\n",
    "\n",
    "for _ in range(my_heap.size()):\n",
    "    print(my_heap.h)\n",
    "    print(my_heap.pop())"
   ]
  },
  {
   "cell_type": "markdown",
   "metadata": {},
   "source": [
    "### **Heap sort**"
   ]
  },
  {
   "cell_type": "markdown",
   "metadata": {},
   "source": [
    "Converts an array into a heap and then pops each element. Works *in-place* - *O(1)* space complexity, *NlogN* time complexity."
   ]
  },
  {
   "cell_type": "code",
   "execution_count": 30,
   "metadata": {},
   "outputs": [
    {
     "name": "stdout",
     "output_type": "stream",
     "text": [
      "[9, 7, 6, 4, 3, 1]\n"
     ]
    }
   ],
   "source": [
    "def heapify(arr, length, index):\n",
    "    l = 2*index + 1\n",
    "    r = 2*index + 2\n",
    "\n",
    "    min_index = index\n",
    "    if l < length and arr[l] < arr[min_index]:\n",
    "        min_index = l\n",
    "    \n",
    "    if r < length and arr[r] < arr[min_index]:\n",
    "        min_index = r\n",
    "\n",
    "    if min_index != index:\n",
    "        arr[min_index], arr[index] = arr[index], arr[min_index]\n",
    "        heapify(arr, length, min_index)    \n",
    "\n",
    "def heap_sort(arr):\n",
    "    N = len(arr)\n",
    "\n",
    "    # Heapify the array\n",
    "    for i in reversed(range(N // 2)):\n",
    "        heapify(arr, N, i)\n",
    "\n",
    "    # Simulate popping by adding minimum element to the back\n",
    "    for i in reversed(range(N)):\n",
    "        arr[0], arr[i] = arr[i], arr[0]\n",
    "        heapify(arr, i, 0)\n",
    "    \n",
    "    \n",
    "arr = [7, 3, 4, 9, 6, 1]\n",
    "heap_sort(arr)\n",
    "\n",
    "print(arr) # [9, 7, 6, 4, 3, 1]"
   ]
  },
  {
   "cell_type": "markdown",
   "metadata": {},
   "source": [
    "### **heapq**"
   ]
  },
  {
   "cell_type": "markdown",
   "metadata": {},
   "source": [
    "Allows *push* and *pop* operations in logarithmic time. Works over a *list*. Can transform a *list* in *Minimum heap* using *heapq.heapify()* method in linear time."
   ]
  },
  {
   "cell_type": "code",
   "execution_count": 6,
   "metadata": {},
   "outputs": [
    {
     "name": "stdout",
     "output_type": "stream",
     "text": [
      "3\n",
      "3\n",
      "4\n",
      "5\n",
      "6\n",
      "7\n",
      "9\n"
     ]
    }
   ],
   "source": [
    "import heapq\n",
    "\n",
    "h = [7, 3, 4, 9, 6]\n",
    "heapq.heapify(h)\n",
    "\n",
    "print(h[0]) # 3\n",
    "heapq.heappush(h, 5)\n",
    "\n",
    "while h:\n",
    "    print(heapq.heappop(h)) # 3, 4, 5, 6, 7, 9\n"
   ]
  },
  {
   "cell_type": "markdown",
   "metadata": {},
   "source": [
    "### **queue.PriorityQueue**"
   ]
  },
  {
   "cell_type": "markdown",
   "metadata": {},
   "source": [
    "Allows *push* and *pop* operations in logarithmic time. Is thread safe, so there is added complexity."
   ]
  },
  {
   "cell_type": "code",
   "execution_count": 7,
   "metadata": {},
   "outputs": [
    {
     "name": "stdout",
     "output_type": "stream",
     "text": [
      "3\n",
      "3\n",
      "4\n",
      "5\n",
      "6\n",
      "7\n",
      "9\n"
     ]
    }
   ],
   "source": [
    "from queue import PriorityQueue\n",
    "\n",
    "pq = PriorityQueue()\n",
    "arr = [7, 3, 4, 9, 6]\n",
    "\n",
    "for el in arr:\n",
    "    pq.put(el)\n",
    "\n",
    "print(pq.queue[0]) # 3\n",
    "pq.put(5)\n",
    "\n",
    "while not pq.empty():\n",
    "    print(pq.get())  # 3, 4, 5, 6, 7, 9"
   ]
  },
  {
   "cell_type": "markdown",
   "metadata": {},
   "source": [
    "### Time comparison"
   ]
  },
  {
   "cell_type": "markdown",
   "metadata": {},
   "source": [
    "Because of the thread safe mechanisms the *queue.PriorityQueue* is expected to perform **worse** than the *heapq* implementation."
   ]
  },
  {
   "cell_type": "code",
   "execution_count": 33,
   "metadata": {},
   "outputs": [],
   "source": [
    "import random\n",
    "import heapq\n",
    "from queue import PriorityQueue\n",
    "\n",
    "\n",
    "def pq_sort(size, max_element):\n",
    "    pq = PriorityQueue()\n",
    "\n",
    "    for _ in range(size):\n",
    "        pq.put(random.randint(0, max_element))\n",
    "\n",
    "    return [pq.get() for _ in range(size)]\n",
    "\n",
    "\n",
    "def heapq_sort(size, max_element):\n",
    "    h = []\n",
    "    for _ in range(size):\n",
    "        heapq.heappush(h, random.randint(0, max_element))\n",
    "    \n",
    "    return [heapq.heappop(h) for _ in range(size)]"
   ]
  },
  {
   "cell_type": "code",
   "execution_count": 35,
   "metadata": {},
   "outputs": [
    {
     "name": "stdout",
     "output_type": "stream",
     "text": [
      "186 ms ± 8.99 ms per loop (mean ± std. dev. of 7 runs, 10 loops each)\n",
      "581 ms ± 23.7 ms per loop (mean ± std. dev. of 7 runs, 1 loop each)\n"
     ]
    }
   ],
   "source": [
    "size, max_element = 100_000, 1_000_000\n",
    "\n",
    "%timeit heapq_sort(size, max_element)\n",
    "%timeit pq_sort(size, max_element)"
   ]
  },
  {
   "cell_type": "markdown",
   "metadata": {},
   "source": [
    "Also note that *heapq* can work *in-place*, modifying the starting list, which will further improve performance."
   ]
  }
 ],
 "metadata": {
  "kernelspec": {
   "display_name": "Python 3",
   "language": "python",
   "name": "python3"
  },
  "language_info": {
   "codemirror_mode": {
    "name": "ipython",
    "version": 3
   },
   "file_extension": ".py",
   "mimetype": "text/x-python",
   "name": "python",
   "nbconvert_exporter": "python",
   "pygments_lexer": "ipython3",
   "version": "3.10.11"
  }
 },
 "nbformat": 4,
 "nbformat_minor": 2
}
