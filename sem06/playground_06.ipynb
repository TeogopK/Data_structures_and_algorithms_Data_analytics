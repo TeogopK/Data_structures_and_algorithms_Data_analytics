{
 "cells": [
  {
   "cell_type": "markdown",
   "metadata": {},
   "source": [
    "## **Code playground for SDA sem 6**"
   ]
  },
  {
   "cell_type": "markdown",
   "metadata": {},
   "source": [
    "### **Stack**"
   ]
  },
  {
   "cell_type": "markdown",
   "metadata": {},
   "source": [
    "Example implementation using Single Linked List:"
   ]
  },
  {
   "cell_type": "code",
   "execution_count": 4,
   "metadata": {},
   "outputs": [],
   "source": [
    "class Node:\n",
    "    def __init__(self, data=0, next_=None):\n",
    "        self.data = data\n",
    "        self.next_ = next_\n",
    "\n",
    "\n",
    "class Stack:\n",
    "    def __init__(self):\n",
    "        self.top = None \n",
    "        self.size = 0\n",
    "    \n",
    "    def push(self, data):\n",
    "        new_node = Node(data)\n",
    "        self.size += 1\n",
    "\n",
    "        if not self.top:\n",
    "            self.top = new_node\n",
    "        else:\n",
    "            new_node.next_ = self.top\n",
    "            self.top = new_node\n",
    "\n",
    "    def pop(self):\n",
    "        if self.top:\n",
    "            self.top = self.top.next_ \n",
    "            self.size -= 1\n",
    "\n",
    "    def peek(self):\n",
    "        if self.top:\n",
    "            return self.top.data\n",
    "        \n",
    "    def print(self):\n",
    "        current = self.top\n",
    "\n",
    "        while current:\n",
    "            print(current.data, end=' ')\n",
    "            current = current.next_\n",
    "\n",
    "        print()\n",
    "\n",
    "    def is_empty(self):\n",
    "        return self.size == 0\n",
    "    \n",
    "    def __eq__(self, stack):\n",
    "        if self.size != stack.size:\n",
    "            return False\n",
    "        \n",
    "        left = self.top\n",
    "        right = stack.top\n",
    "\n",
    "        while left and right:\n",
    "            if left.data != right.data:\n",
    "                return False\n",
    "            \n",
    "            left = left.next_\n",
    "            right = right.next_\n",
    "            \n",
    "        return True "
   ]
  },
  {
   "cell_type": "markdown",
   "metadata": {},
   "source": [
    "Adding/ Removing elements at the top - *O(1)*:"
   ]
  },
  {
   "cell_type": "code",
   "execution_count": 10,
   "metadata": {},
   "outputs": [
    {
     "name": "stdout",
     "output_type": "stream",
     "text": [
      "99 30 20 10 \n",
      "30 20 10 \n"
     ]
    }
   ],
   "source": [
    "stack = Stack()\n",
    "\n",
    "stack.push(10)\n",
    "stack.push(20)\n",
    "stack.push(30)\n",
    "stack.push(99)\n",
    "\n",
    "stack.print() # 99 30 20 10 \n",
    "\n",
    "stack.pop()\n",
    "\n",
    "stack.print() # 30 20 10 "
   ]
  },
  {
   "cell_type": "markdown",
   "metadata": {},
   "source": [
    "### **Queue**"
   ]
  },
  {
   "cell_type": "markdown",
   "metadata": {},
   "source": [
    "Example implementation using Single Linked List:"
   ]
  },
  {
   "cell_type": "code",
   "execution_count": 28,
   "metadata": {},
   "outputs": [],
   "source": [
    "class Node:\n",
    "    def __init__(self, data=0, next_=None):\n",
    "        self.data = data\n",
    "        self.next_ = next_\n",
    "\n",
    "class Queue:\n",
    "    def __init__(self):\n",
    "        self.head = None \n",
    "        self.tail = None\n",
    "        self.size = 0\n",
    "\n",
    "    def push(self, data):\n",
    "        new_node = Node(data)\n",
    "        self.size += 1\n",
    "\n",
    "        if not self.head:\n",
    "            self.head = self.tail = new_node\n",
    "        else:\n",
    "            self.tail.next_ = new_node\n",
    "            self.tail = new_node\n",
    "    \n",
    "    def pop(self):\n",
    "        if not self.head:\n",
    "            return\n",
    "\n",
    "        self.size -= 1\n",
    "        if self.head and self.head == self.tail:\n",
    "            self.head = self.tail = None\n",
    "        else:\n",
    "            self.head = self.head.next_ \n",
    "\n",
    "    def peek(self):\n",
    "        if self.head:\n",
    "            return self.head.data\n",
    "\n",
    "    def print(self):\n",
    "        current = self.head\n",
    "\n",
    "        while current:\n",
    "            print(current.data, end=' ')\n",
    "            current = current.next_\n",
    "\n",
    "        print()\n",
    "\n",
    "    def is_empty(self):\n",
    "        return self.size == 0\n",
    "    \n",
    "    def __eq__(self, queue):\n",
    "        if self.size != queue.size:\n",
    "            return False\n",
    "        \n",
    "        left = self.head\n",
    "        right = queue.head\n",
    "\n",
    "        while left and right:\n",
    "            if left.data != right.data:\n",
    "                return False\n",
    "            \n",
    "            left = left.next_\n",
    "            right = right.next_\n",
    "            \n",
    "        return True \n",
    "    "
   ]
  },
  {
   "cell_type": "markdown",
   "metadata": {},
   "source": [
    "Adding elements at the back/ Removing elemenents at the front - both *O(1)*:"
   ]
  },
  {
   "cell_type": "code",
   "execution_count": 29,
   "metadata": {},
   "outputs": [
    {
     "name": "stdout",
     "output_type": "stream",
     "text": [
      "10 20 30 99 \n",
      "20 30 99 \n"
     ]
    }
   ],
   "source": [
    "queue = Queue()\n",
    "\n",
    "queue.push(10)\n",
    "queue.push(20)\n",
    "queue.push(30)\n",
    "queue.push(99)\n",
    "\n",
    "queue.print() # 10 20 30 99\n",
    "\n",
    "queue.pop()\n",
    "\n",
    "queue.print() # 20 30 99"
   ]
  }
 ],
 "metadata": {
  "kernelspec": {
   "display_name": "Python 3",
   "language": "python",
   "name": "python3"
  },
  "language_info": {
   "codemirror_mode": {
    "name": "ipython",
    "version": 3
   },
   "file_extension": ".py",
   "mimetype": "text/x-python",
   "name": "python",
   "nbconvert_exporter": "python",
   "pygments_lexer": "ipython3",
   "version": "3.10.11"
  }
 },
 "nbformat": 4,
 "nbformat_minor": 2
}
