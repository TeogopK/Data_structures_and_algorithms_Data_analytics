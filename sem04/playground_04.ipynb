{
 "cells": [
  {
   "cell_type": "markdown",
   "metadata": {},
   "source": [
    "## **Code playground for SDA sem 4**"
   ]
  },
  {
   "cell_type": "markdown",
   "metadata": {},
   "source": [
    "### **Linear search**"
   ]
  },
  {
   "cell_type": "markdown",
   "metadata": {},
   "source": [
    "Time complexity: *O(N)*"
   ]
  },
  {
   "cell_type": "code",
   "execution_count": null,
   "metadata": {},
   "outputs": [],
   "source": [
    "def linear_search(arr, X):\n",
    "    for i in range(len(arr)):\n",
    "        if arr[i] == X:\n",
    "            return i\n",
    "\n",
    "    return -1\n",
    "\n",
    "arr = [9, 4, 3, 2, 6, 7, 1, 8, 5]\n",
    "X = 6\n",
    "\n",
    "Xi = linear_search(arr, X)\n",
    "print(f\"Found number {X} at index: {Xi}\")"
   ]
  },
  {
   "cell_type": "markdown",
   "metadata": {},
   "source": [
    "Similar implementation using enumerate:"
   ]
  },
  {
   "cell_type": "code",
   "execution_count": null,
   "metadata": {},
   "outputs": [],
   "source": [
    "def linear_search(sequence, target):\n",
    "    for index, item in enumerate(sequence):\n",
    "        if item == target:\n",
    "           return index\n",
    "    return -1\n",
    "\n",
    "arr = [9, 4, 3, 2, 6, 7, 1, 8, 5]\n",
    "X = 6\n",
    "\n",
    "Xi = linear_search(arr, X)\n",
    "print(f\"Found number {X} at index: {Xi}\")"
   ]
  },
  {
   "cell_type": "markdown",
   "metadata": {},
   "source": [
    "### **Binary search**"
   ]
  },
  {
   "cell_type": "markdown",
   "metadata": {},
   "source": [
    "Time complexity: *O(logN)*"
   ]
  },
  {
   "cell_type": "code",
   "execution_count": null,
   "metadata": {},
   "outputs": [],
   "source": [
    "def binary_search(arr, X):\n",
    "    left = 0\n",
    "    right = len(arr) - 1\n",
    "\n",
    "    Xi = 0\n",
    "\n",
    "    while left <= right:\n",
    "        mid = left + (right - left) // 2\n",
    "\n",
    "        if X <= arr[mid]:\n",
    "            right = mid - 1\n",
    "            Xi = mid\n",
    "        else:\n",
    "            left = mid + 1\n",
    "\n",
    "    return Xi\n",
    "\n",
    "arr = [10, 20, 30, 40, 50, 60, 70, 80, 90] # is sorted\n",
    "X = 60\n",
    "\n",
    "Xi = binary_search(arr, X)\n",
    "print(f\"Found number {X} at index: {Xi}\")"
   ]
  },
  {
   "cell_type": "markdown",
   "metadata": {},
   "source": [
    "Note that to avoid overflow (in other programming languages) the calculation for the middle index is: *mid = left + (right - left) // 2* which is equal to *mid = (left + right) // 2*"
   ]
  },
  {
   "cell_type": "markdown",
   "metadata": {},
   "source": [
    "Finding the **leftmost** element (if there are duplicates in the data):"
   ]
  },
  {
   "cell_type": "code",
   "execution_count": null,
   "metadata": {},
   "outputs": [],
   "source": [
    "def binary_search_leftmost(arr, X):\n",
    "    left = 0\n",
    "    right = len(arr) - 1\n",
    "\n",
    "    Xi = len(arr) - 1\n",
    "\n",
    "    while left <= right:\n",
    "        mid = left + (right - left) // 2\n",
    "        \n",
    "        if X <= arr[mid]:\n",
    "            right = mid - 1\n",
    "            Xi = mid\n",
    "        else:\n",
    "            left = mid + 1\n",
    "\n",
    "    return Xi\n",
    "\n",
    "arr = [20, 20, 30, 40, 40, 40, 40, 60, 60, 60] # is sorted\n",
    "targets = [10, 20, 30, 40, 50, 60, 70] # 10, 50, 70 are missing in the array\n",
    "\n",
    "for X in targets:\n",
    "    Xi = binary_search_leftmost(arr, X)\n",
    "    print(f\"Leftmost number {X} is at index: {Xi}\")"
   ]
  },
  {
   "cell_type": "markdown",
   "metadata": {},
   "source": [
    "Verbose version:"
   ]
  },
  {
   "cell_type": "code",
   "execution_count": null,
   "metadata": {},
   "outputs": [],
   "source": [
    "def binary_search_leftmost(arr, X):\n",
    "    left = 0\n",
    "    right = len(arr) - 1\n",
    "\n",
    "    Xi = len(arr) - 1\n",
    "\n",
    "    while left <= right:\n",
    "        mid = left + (right - left) // 2\n",
    "        print(f\"X = {X}, arr[mid={mid}] = {arr[mid]}, Xi = {Xi}\", arr[left:right+1])\n",
    "        \n",
    "        if X <= arr[mid]:\n",
    "            right = mid - 1\n",
    "            Xi = mid\n",
    "            print(\"New Xi is\", Xi)\n",
    "        else:\n",
    "            left = mid + 1\n",
    "\n",
    "    return Xi\n",
    "\n",
    "arr = [20, 20, 30, 40, 40, 40, 40, 60, 60, 60]\n",
    "X = 40\n",
    "\n",
    "Xi = binary_search_leftmost(arr, X)\n",
    "print(f\"Leftmost number {X} is at index: {Xi}\")"
   ]
  },
  {
   "cell_type": "markdown",
   "metadata": {},
   "source": [
    "Finding the **rightmost** element:"
   ]
  },
  {
   "cell_type": "code",
   "execution_count": null,
   "metadata": {},
   "outputs": [],
   "source": [
    "def binary_search_rightmost(arr, X):\n",
    "    left = 0\n",
    "    right = len(arr) - 1\n",
    "\n",
    "    Xi = 0\n",
    "\n",
    "    while left <= right:\n",
    "        mid = left + (right - left) // 2\n",
    "\n",
    "        if X < arr[mid]: # If equal should drop the left (in the else).\n",
    "            right = mid - 1\n",
    "        else:\n",
    "            left = mid + 1\n",
    "            Xi = mid \n",
    "\n",
    "    return Xi\n",
    "\n",
    "arr = [20, 20, 30, 40, 40, 40, 40, 60, 60, 60] # is sorted\n",
    "targets = [10, 20, 30, 40, 50, 60, 70] # 10, 50, 70 are missing in the array\n",
    "\n",
    "for X in targets:\n",
    "    Xi = binary_search_rightmost(arr, X)\n",
    "    print(f\"Rightmost number {X} is at index: {Xi}\")"
   ]
  },
  {
   "cell_type": "markdown",
   "metadata": {},
   "source": [
    "Verbose version:"
   ]
  },
  {
   "cell_type": "code",
   "execution_count": null,
   "metadata": {},
   "outputs": [],
   "source": [
    "def binary_search_rightmost(arr, X):\n",
    "    left = 0\n",
    "    right = len(arr) - 1\n",
    "\n",
    "    Xi = 0\n",
    "\n",
    "    while left <= right:\n",
    "        mid = left + (right - left) // 2\n",
    "        print(f\"X = {X}, arr[mid={mid}] = {arr[mid]}, Xi = {Xi}\", arr[left:right+1])\n",
    "\n",
    "        if X < arr[mid]: # If equal should drop the left (in the else).\n",
    "            right = mid - 1\n",
    "        else:\n",
    "            left = mid + 1\n",
    "            Xi = mid \n",
    "            print(\"New Xi is\", Xi)\n",
    "\n",
    "    return Xi\n",
    "\n",
    "arr = [20, 20, 30, 40, 40, 40, 40, 60, 60, 60]\n",
    "X = 40\n",
    "\n",
    "Xi = binary_search_rightmost(arr, X)\n",
    "print(f\"Rightmost number {X} is at index: {Xi}\")"
   ]
  },
  {
   "cell_type": "markdown",
   "metadata": {},
   "source": [
    "Recursive version:"
   ]
  },
  {
   "cell_type": "code",
   "execution_count": null,
   "metadata": {},
   "outputs": [],
   "source": [
    "def binary_search_recursive(arr, X, left, right):\n",
    "    if left <= right:\n",
    "        mid = left + (right - left) // 2\n",
    "\n",
    "        if X == arr[mid]:\n",
    "            return mid\n",
    "        elif X < arr[mid]:\n",
    "            return binary_search_recursive(arr, X, left, mid - 1)\n",
    "        else:\n",
    "            return binary_search_recursive(arr, X, mid + 1, right)\n",
    "    else:\n",
    "        return -1\n",
    "    \n",
    "arr = [20, 20, 30, 40, 40, 40, 40, 60, 60, 60] \n",
    "X = 40\n",
    "\n",
    "Xi = binary_search_recursive(arr, X, 0, len(arr) - 1)\n",
    "print(f\"Number {X} is at index: {Xi}\")"
   ]
  },
  {
   "cell_type": "markdown",
   "metadata": {},
   "source": [
    "### **Ternary search**"
   ]
  },
  {
   "cell_type": "markdown",
   "metadata": {},
   "source": [
    "Time complexity: *O(logN)*"
   ]
  },
  {
   "cell_type": "code",
   "execution_count": null,
   "metadata": {},
   "outputs": [],
   "source": [
    "def ternarySearch(arr, key, l, r):\n",
    "    if r >= l:\n",
    "        mid1 = l + (r - l) //3\n",
    "        mid2 = r - (r - l) //3 \n",
    "\n",
    "        if arr[mid1] == key:\n",
    "            return mid1\n",
    "         \n",
    "        if arr[mid2] == key:\n",
    "            return mid2\n",
    "\n",
    "        if key < arr[mid1]:\n",
    "            return ternarySearch(arr, key, l, mid1 - 1)\n",
    "        elif key > arr[mid2]:\n",
    "            return ternarySearch(arr, key, mid2 + 1, r)\n",
    "        else:\n",
    "            return ternarySearch(arr, key, mid1 + 1, mid2 - 1)\n",
    "    return -1\n",
    "\n",
    "arr = [10, 20, 30, 40, 50, 60, 70, 80, 90]\n",
    "X = 60\n",
    "\n",
    "Xi = ternarySearch(arr, X, 0, len(arr) - 1)\n",
    "print(f\"Number {X} is at index: {Xi}\")\n"
   ]
  },
  {
   "cell_type": "markdown",
   "metadata": {},
   "source": [
    "Verbose variant:"
   ]
  },
  {
   "cell_type": "code",
   "execution_count": null,
   "metadata": {},
   "outputs": [],
   "source": [
    "def ternarySearch(arr, key, l, r):\n",
    "    if r >= l:\n",
    "        mid1 = l + (r - l) //3\n",
    "        mid2 = r - (r - l) //3 \n",
    "\n",
    "        print(f\"arr[mid1={mid1}] = {arr[mid1]}, arr[mid2={mid2}] = {arr[mid2]}\", arr[l:r+1])\n",
    "\n",
    "        if arr[mid1] == key:\n",
    "            return mid1\n",
    "         \n",
    "        if arr[mid2] == key:\n",
    "            return mid2\n",
    "\n",
    "        if key < arr[mid1]:\n",
    "            return ternarySearch(arr, key, l, mid1 - 1)\n",
    "        elif key > arr[mid2]:\n",
    "            return ternarySearch(arr, key, mid2 + 1, r)\n",
    "        else:\n",
    "            return ternarySearch(arr, key, mid1 + 1, mid2 - 1)\n",
    "    return -1\n",
    "\n",
    "arr = [i for i in range(100)]\n",
    "# arr = [10, 20, 20, 30, 40, 40, 40, 40, 60, 60, 60, 60, 60, 60] \n",
    "\n",
    "X = 60\n",
    "\n",
    "Xi = ternarySearch(arr, X, 0, len(arr) - 1)\n",
    "print(f\"Number {X} is at index: {Xi}\")\n"
   ]
  },
  {
   "cell_type": "markdown",
   "metadata": {},
   "source": [
    "### **Jump search**"
   ]
  },
  {
   "cell_type": "markdown",
   "metadata": {},
   "source": [
    "Time complexity: *O(sqrt(N))*"
   ]
  },
  {
   "cell_type": "code",
   "execution_count": null,
   "metadata": {},
   "outputs": [],
   "source": [
    "import math\n",
    "\n",
    "def jumpSearch(arr, X):\n",
    "    N = len(arr)\n",
    "    block_size = int(math.sqrt(N))\n",
    "\n",
    "    step = block_size\n",
    "    prev = 0\n",
    "    while arr[min(step, N) - 1] < X:\n",
    "        prev = step\n",
    "        step += block_size\n",
    "        if prev >= N:\n",
    "            return -1\n",
    "\n",
    "    while arr[prev] < X:\n",
    "        prev += 1\n",
    "\n",
    "        if prev == min(step, N):\n",
    "            return -1\n",
    "     \n",
    "    if arr[prev] == X:\n",
    "        return prev\n",
    "     \n",
    "    return -1\n",
    "\n",
    "arr = [10, 20, 30, 40, 50, 60, 70, 80, 90]\n",
    "X = 40\n",
    "\n",
    "Xi = jumpSearch(arr, X)\n",
    "print(f\"Number {X} is at index: {Xi}\")\n"
   ]
  },
  {
   "cell_type": "markdown",
   "metadata": {},
   "source": [
    "Verbose version:"
   ]
  },
  {
   "cell_type": "code",
   "execution_count": null,
   "metadata": {},
   "outputs": [],
   "source": [
    "import math\n",
    "\n",
    "def jumpSearch(arr, X):\n",
    "    N = len(arr)\n",
    "    block_size = int(math.sqrt(N))\n",
    "    print(f\"Len is {N}, blocksize is: {block_size}\")\n",
    "\n",
    "    step = block_size\n",
    "    prev = 0\n",
    "    while arr[min(step, N) - 1] < X:\n",
    "        print(f\"Number on step {min(step, N)}: {arr[min(step, N) - 1]}\")\n",
    "\n",
    "        prev = step\n",
    "        step += block_size\n",
    "\n",
    "        if prev >= N:\n",
    "            print(f\"Number is larger than max element\")\n",
    "            return -1\n",
    "\n",
    "    print(f\"Number on last step {min(step, N)}: {arr[min(step, N) - 1]}\")\n",
    "    print(f\"Interval is: [{arr[prev]}, {arr[min(step, N) - 1]})\")\n",
    "\n",
    "    while arr[prev] < X:\n",
    "        print(f\"Linear searching:\", arr[prev])\n",
    "        prev += 1\n",
    "\n",
    "    if prev == min(step, N):\n",
    "        print(f\"End of interval reached!*\", arr[prev])\n",
    "        return -1\n",
    "\n",
    "    print(f\"End of linear searching on number:\", arr[prev])\n",
    "    if arr[prev] == X:\n",
    "        return prev\n",
    "     \n",
    "    return -1\n",
    "\n",
    "arr = [i for i in range(0, 100, 3)]\n",
    "print(arr) \n",
    "X = 66 # Try 66, 59, 67, 120, -1\n",
    "\n",
    "Xi = jumpSearch(arr, X)\n",
    "print(f\"Number {X} is at index: {Xi}\")\n"
   ]
  },
  {
   "cell_type": "markdown",
   "metadata": {},
   "source": [
    "### **Exponential search**"
   ]
  },
  {
   "cell_type": "markdown",
   "metadata": {},
   "source": [
    "Time complexity: *O(logi)*"
   ]
  },
  {
   "cell_type": "code",
   "execution_count": null,
   "metadata": {},
   "outputs": [],
   "source": [
    "def binary_search_recursive(arr, X, left, right):\n",
    "    if left <= right:\n",
    "        mid = left + (right - left) // 2\n",
    "\n",
    "        if X == arr[mid]:\n",
    "            return mid\n",
    "        elif X < arr[mid]:\n",
    "            return binary_search_recursive(arr, X, left, mid - 1)\n",
    "        else:\n",
    "            return binary_search_recursive(arr, X, mid + 1, right)\n",
    "    else:\n",
    "        return -1\n",
    "    \n",
    "def exponential_search(arr, X):\n",
    "    N = len(arr)\n",
    "\n",
    "    i = 1\n",
    "    while i < N and arr[i] <= X:\n",
    "        i = i * 2\n",
    "\n",
    "    left = i // 2\n",
    "    right = min(i, N-1)\n",
    "     \n",
    "    return binary_search_recursive(arr, X, left, right)\n",
    "\n",
    "arr = [10, 20, 30, 40, 50, 60, 70, 80, 90]\n",
    "X = 60\n",
    "\n",
    "Xi = exponential_search(arr, X)\n",
    "print(f\"Number {X} is at index: {Xi}\")"
   ]
  },
  {
   "cell_type": "markdown",
   "metadata": {},
   "source": [
    "Verbose version:"
   ]
  },
  {
   "cell_type": "code",
   "execution_count": null,
   "metadata": {},
   "outputs": [],
   "source": [
    "def exponential_search(arr, X):\n",
    "    N = len(arr)\n",
    "\n",
    "    i = 1\n",
    "    while i < N and arr[i] <= X:\n",
    "        print(i, arr[i])\n",
    "        i = i * 2\n",
    "\n",
    "    print(\"Last:\", i, arr[min(i, N - 1)])\n",
    "\n",
    "    left = i // 2\n",
    "    right = min(i, N-1)\n",
    "\n",
    "    print(\"Number is between indexes:\", left, right)\n",
    "    print(\"Number is between:\", arr[left], arr[right])\n",
    "\n",
    "    print(\"Binary searching...\")\n",
    "     \n",
    "    return binary_search_recursive(arr, X, left, right)\n",
    "\n",
    "arr = [10, 20, 30, 40, 50, 60, 70, 80, 90]\n",
    "arr = [i for i in range(0, 100, 5)]\n",
    "\n",
    "print(len(arr), arr)\n",
    "X = 60\n",
    "\n",
    "Xi = exponential_search(arr, X)\n",
    "print(f\"Number {X} is at index: {Xi}\")"
   ]
  },
  {
   "cell_type": "markdown",
   "metadata": {},
   "source": [
    "Suppose we have the following function(for ease the input x can only be whole number):\n"
   ]
  },
  {
   "cell_type": "code",
   "execution_count": 26,
   "metadata": {},
   "outputs": [
    {
     "data": {
      "text/latex": [
       "$$ \\displaystyle f(x) = 2 x^{3} + 13 x^{2} + 3 x + 5 $$"
      ],
      "text/plain": [
       "<latexify.ipython_wrappers.LatexifiedFunction at 0x1b14e1265b0>"
      ]
     },
     "execution_count": 26,
     "metadata": {},
     "output_type": "execute_result"
    }
   ],
   "source": [
    "import latexify\n",
    "\n",
    "@latexify.function\n",
    "def f(x):\n",
    "    return 2*x**3 + 13*x**2 + 3*x + 5 \n",
    "\n",
    "f"
   ]
  },
  {
   "cell_type": "markdown",
   "metadata": {},
   "source": [
    "Let's plot this function and see how it looks"
   ]
  },
  {
   "cell_type": "code",
   "execution_count": 29,
   "metadata": {},
   "outputs": [
    {
     "data": {
      "text/plain": [
       "<AxesSubplot:xlabel='x'>"
      ]
     },
     "execution_count": 29,
     "metadata": {},
     "output_type": "execute_result"
    },
    {
     "data": {
      "image/png": "[encoded data removed]",
      "text/plain": [
       "<Figure size 432x288 with 1 Axes>"
      ]
     },
     "metadata": {
      "needs_background": "light"
     },
     "output_type": "display_data"
    }
   ],
   "source": [
    "import pandas as pd\n",
    "\n",
    "f_input = [i for i in range(1_000)]\n",
    "\n",
    "pd.DataFrame.from_dict(\n",
    "    {\n",
    "        'x': f_input,\n",
    "        'y': map(f, f_input)\n",
    "    }\n",
    ").plot(x='x', y='y')"
   ]
  },
  {
   "cell_type": "markdown",
   "metadata": {},
   "source": [
    "Looks like it is growing fast, but it looks like it's monotonic...\n",
    "How can we know, what is the smallest x, for which f(x) >= 2000013000003000006?\n",
    "We can do a linear search:"
   ]
  },
  {
   "cell_type": "code",
   "execution_count": 31,
   "metadata": {},
   "outputs": [
    {
     "data": {
      "text/plain": [
       "1000001"
      ]
     },
     "execution_count": 31,
     "metadata": {},
     "output_type": "execute_result"
    }
   ],
   "source": [
    "def linear_search_f(f, target=2000013000003000006):\n",
    "    i = 0\n",
    "    while True:\n",
    "        if f(i) >= target:\n",
    "            return i\n",
    "        i += 1\n",
    "        \n",
    "linear_search_f(f)"
   ]
  },
  {
   "cell_type": "markdown",
   "metadata": {},
   "source": [
    "But can't we also do a binary search? The values of the function would be corresponding to a sorted array, which we know we can search in... Let's see:"
   ]
  },
  {
   "cell_type": "code",
   "execution_count": 32,
   "metadata": {},
   "outputs": [
    {
     "data": {
      "text/plain": [
       "1000001"
      ]
     },
     "execution_count": 32,
     "metadata": {},
     "output_type": "execute_result"
    }
   ],
   "source": [
    "def binary_search_f(f, target=2000013000003000006):\n",
    "    left, right, ans = 0, int(1e16), -1\n",
    "    while left <= right:\n",
    "        mid = (left + right) // 2\n",
    "        if f(mid) >= target:\n",
    "            right = mid - 1\n",
    "            ans = mid\n",
    "        else:\n",
    "            left = mid + 1\n",
    "\n",
    "    return ans\n",
    "\n",
    "binary_search_f(f)"
   ]
  },
  {
   "cell_type": "code",
   "execution_count": 33,
   "metadata": {},
   "outputs": [
    {
     "name": "stdout",
     "output_type": "stream",
     "text": [
      "965 ms ± 39 ms per loop (mean ± std. dev. of 7 runs, 1 loop each)\n",
      "63.6 µs ± 2.14 µs per loop (mean ± std. dev. of 7 runs, 10,000 loops each)\n"
     ]
    }
   ],
   "source": [
    "%timeit linear_search_f(f)\n",
    "%timeit binary_search_f(f)"
   ]
  },
  {
   "cell_type": "markdown",
   "metadata": {},
   "source": [
    "Suppose we have 3 cooks, every one of them is cooking 1 pancake for every 2, 3, 5 minutes respectively, that have passed. How can we find what is the first moment that we have more than 1,000,000 pancakes ready? How would our function look like?"
   ]
  },
  {
   "cell_type": "code",
   "execution_count": 34,
   "metadata": {},
   "outputs": [
    {
     "data": {
      "text/plain": [
       "4"
      ]
     },
     "execution_count": 34,
     "metadata": {},
     "output_type": "execute_result"
    }
   ],
   "source": [
    "def f_pancakes(t, cooks=[2,3,5]):\n",
    "    return sum([t // cook for cook in cooks])\n",
    "\n",
    "f_pancakes(5)"
   ]
  },
  {
   "cell_type": "markdown",
   "metadata": {},
   "source": [
    "In moment 5, we have 4 pancakes, the first cook has cooked 2, the second has cooke 1, and the third has also cooked 1.\n"
   ]
  },
  {
   "cell_type": "markdown",
   "metadata": {},
   "source": [
    "Let's plot the function and analyze it..."
   ]
  },
  {
   "cell_type": "code",
   "execution_count": 35,
   "metadata": {},
   "outputs": [
    {
     "data": {
      "text/plain": [
       "<AxesSubplot:xlabel='x'>"
      ]
     },
     "execution_count": 35,
     "metadata": {},
     "output_type": "execute_result"
    },
    {
     "data": {
      "image/png": "[encoded data removed]",
      "text/plain": [
       "<Figure size 432x288 with 1 Axes>"
      ]
     },
     "metadata": {
      "needs_background": "light"
     },
     "output_type": "display_data"
    }
   ],
   "source": [
    "pancakes_input = [i for i in range(5_000)]\n",
    "\n",
    "pd.DataFrame.from_dict(\n",
    "    {\n",
    "        'x': pancakes_input,\n",
    "        'f(x)': map(f_pancakes, pancakes_input)\n",
    "    }\n",
    ").plot(x='x', y='f(x)')"
   ]
  },
  {
   "cell_type": "markdown",
   "metadata": {},
   "source": [
    "Looks like it is monotonic as well, meaning that we can do binary search over it... But let's do a linear search first to compare for correctness\n",
    "\n",
    "Now let's do a linear search over this function, in fact, let's reuse the function that we have written above..."
   ]
  },
  {
   "cell_type": "code",
   "execution_count": 36,
   "metadata": {},
   "outputs": [
    {
     "name": "stdout",
     "output_type": "stream",
     "text": [
      "967743\n",
      "967743\n"
     ]
    }
   ],
   "source": [
    "print(linear_search_f(f_pancakes, 1_000_000))\n",
    "\n",
    "print(binary_search_f(f_pancakes, 1_000_000))"
   ]
  },
  {
   "cell_type": "markdown",
   "metadata": {},
   "source": [
    "Looks like they are giving the same answers... Let's time them"
   ]
  },
  {
   "cell_type": "code",
   "execution_count": 37,
   "metadata": {},
   "outputs": [
    {
     "name": "stdout",
     "output_type": "stream",
     "text": [
      "607 ms ± 10.9 ms per loop (mean ± std. dev. of 7 runs, 1 loop each)\n",
      "40.6 µs ± 786 ns per loop (mean ± std. dev. of 7 runs, 10,000 loops each)\n"
     ]
    }
   ],
   "source": [
    "%timeit linear_search_f(f_pancakes, 1_000_000)\n",
    "%timeit binary_search_f(f_pancakes, 1_000_000)"
   ]
  },
  {
   "cell_type": "code",
   "execution_count": null,
   "metadata": {},
   "outputs": [],
   "source": []
  }
 ],
 "metadata": {
  "kernelspec": {
   "display_name": "Python 3",
   "language": "python",
   "name": "python3"
  },
  "language_info": {
   "codemirror_mode": {
    "name": "ipython",
    "version": 3
   },
   "file_extension": ".py",
   "mimetype": "text/x-python",
   "name": "python",
   "nbconvert_exporter": "python",
   "pygments_lexer": "ipython3",
   "version": "3.8.0"
  }
 },
 "nbformat": 4,
 "nbformat_minor": 2
}
