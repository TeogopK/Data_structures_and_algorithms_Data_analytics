{
 "cells": [
  {
   "cell_type": "markdown",
   "metadata": {},
   "source": [
    "## **Code playground for SDA sem 3**"
   ]
  },
  {
   "cell_type": "markdown",
   "metadata": {},
   "source": [
    "### **Bubble sort**"
   ]
  },
  {
   "cell_type": "markdown",
   "metadata": {},
   "source": [
    "Time complexity: *O(N<sup>2</sup>)*"
   ]
  },
  {
   "cell_type": "code",
   "execution_count": null,
   "metadata": {},
   "outputs": [],
   "source": [
    "arr = [9, 4, 3, 2, 6, 7, 1, 8, 5]\n",
    "N = len(arr)\n",
    "\n",
    "for i in range(N - 1):\n",
    "    for j in range(0, N - 1 - i):\n",
    "        if arr[j] > arr[j + 1]:\n",
    "            arr[j], arr[j + 1] = arr[j + 1], arr[j]\n",
    "\n",
    "print(arr) # [1, 2, 3, 4, 5, 6, 7, 8, 9]"
   ]
  },
  {
   "cell_type": "markdown",
   "metadata": {},
   "source": [
    "After the first iteration the biggest number is in the right place. On the next iteration - the second biggest and so on...\n",
    "\n",
    "Verbose variant:"
   ]
  },
  {
   "cell_type": "code",
   "execution_count": null,
   "metadata": {},
   "outputs": [],
   "source": [
    "arr = [9, 4, 3, 2, 6, 7, 1, 8, 5]\n",
    "N = len(arr)\n",
    "\n",
    "print(arr)\n",
    "\n",
    "for i in range(N - 1):\n",
    "    for j in range(0, N - 1 - i):\n",
    "        if arr[j] > arr[j + 1]:\n",
    "            arr[j], arr[j + 1] = arr[j + 1], arr[j]\n",
    "            print(arr)\n",
    "    print(f\"End of iteration {i}.\")"
   ]
  },
  {
   "cell_type": "markdown",
   "metadata": {},
   "source": [
    "Iterations without swaps, when the list is sorted, can be skipped using a flag. This is known as *Optimized bubble sort*:"
   ]
  },
  {
   "cell_type": "code",
   "execution_count": null,
   "metadata": {},
   "outputs": [],
   "source": [
    "arr = [9, 4, 3, 2, 6, 7, 1, 8, 5]\n",
    "N = len(arr)\n",
    "\n",
    "print(arr)\n",
    "\n",
    "for i in range(N - 1):\n",
    "    swapped = False\n",
    "\n",
    "    for j in range(0, N - 1 - i):\n",
    "        if arr[j] > arr[j + 1]:\n",
    "            arr[j], arr[j + 1] = arr[j + 1], arr[j]\n",
    "            swapped = True\n",
    "            print(arr)\n",
    "\n",
    "    if not swapped:\n",
    "        break\n",
    "\n",
    "    print(f\"End of iteration {i}.\")"
   ]
  },
  {
   "cell_type": "markdown",
   "metadata": {},
   "source": [
    "The worst case number of swaps is *N * (N - 1) / 2*:"
   ]
  },
  {
   "cell_type": "code",
   "execution_count": null,
   "metadata": {},
   "outputs": [],
   "source": [
    "N = 50\n",
    "arr = [i for i in range(N, 0, -1)]\n",
    "\n",
    "print(arr)\n",
    "swaps = 0\n",
    "\n",
    "for i in range(N - 1):\n",
    "    for j in range(0, N - 1 - i):\n",
    "        if arr[j] > arr[j + 1]:\n",
    "            arr[j], arr[j + 1] = arr[j + 1], arr[j]\n",
    "            swaps += 1\n",
    "\n",
    "print(arr)\n",
    "print(N, swaps)\n",
    "print(N * (N - 1) / 2 == swaps)\n"
   ]
  },
  {
   "cell_type": "markdown",
   "metadata": {},
   "source": [
    "Bubble sort **is a** stable sorting algorithm. Elements that are equal keep their relative positions after the sort."
   ]
  },
  {
   "cell_type": "code",
   "execution_count": null,
   "metadata": {},
   "outputs": [],
   "source": [
    "arr = [(2, 'woman'), (1, 'a'), (1, 'b'), (2, 'man'), (1, 'c')]\n",
    "N = len(arr)\n",
    "\n",
    "print(arr)\n",
    "\n",
    "for i in range(N - 1):\n",
    "    for j in range(0, N - 1 - i):\n",
    "        if arr[j][0] > arr[j + 1][0]: # only compare the int values\n",
    "            arr[j], arr[j + 1] = arr[j + 1], arr[j]\n",
    "\n",
    "print(arr)\n"
   ]
  },
  {
   "cell_type": "markdown",
   "metadata": {},
   "source": [
    "## **Selection sort**"
   ]
  },
  {
   "cell_type": "markdown",
   "metadata": {},
   "source": [
    "Time complexity: *O(N<sup>2</sup>)*"
   ]
  },
  {
   "cell_type": "code",
   "execution_count": null,
   "metadata": {},
   "outputs": [],
   "source": [
    "arr = [9, 4, 3, 2, 6, 7, 1, 8, 5]\n",
    "N = len(arr)\n",
    "\n",
    "for i in range(N - 1):\n",
    "    min_index = i\n",
    "\n",
    "    for j in range(i + 1, N):\n",
    "        if arr[j] < arr[min_index]:\n",
    "            min_index = j\n",
    "\n",
    "    arr[min_index], arr[i] = arr[i], arr[min_index]\n",
    "\n",
    "print(arr) # [1, 2, 3, 4, 5, 6, 7, 8, 9]"
   ]
  },
  {
   "cell_type": "markdown",
   "metadata": {},
   "source": [
    "After each iteration the smallest element is in the right place.\n",
    "\n",
    "Verbose variant:"
   ]
  },
  {
   "cell_type": "code",
   "execution_count": null,
   "metadata": {},
   "outputs": [],
   "source": [
    "arr = [9, 4, 3, 2, 6, 7, 1, 8, 5]\n",
    "N = len(arr)\n",
    "\n",
    "print(arr)\n",
    "\n",
    "for i in range(N - 1):\n",
    "    min_index = i\n",
    "\n",
    "    for j in range(i + 1, N):\n",
    "        if arr[j] < arr[min_index]:\n",
    "            min_index = j\n",
    "\n",
    "    arr[min_index], arr[i] = arr[i], arr[min_index]\n",
    "    print(arr)"
   ]
  },
  {
   "cell_type": "markdown",
   "metadata": {},
   "source": [
    "Note that the algorithm always does *N - 1* swaps. If check is added to avoid swapping when the first element was the smallest, then only in the worst case there will be *N - 1* swaps."
   ]
  },
  {
   "cell_type": "code",
   "execution_count": null,
   "metadata": {},
   "outputs": [],
   "source": [
    "N = 10\n",
    "# Note how the worst case for swaps looks like :)\n",
    "arr = [N] + [i for i in range(1, N)] \n",
    "\n",
    "print(arr)\n",
    "swaps = 0\n",
    "\n",
    "for i in range(N - 1):\n",
    "    min_index = i\n",
    "\n",
    "    for j in range(i + 1, N):\n",
    "        if arr[j] < arr[min_index]:\n",
    "            min_index = j\n",
    "\n",
    "    if min_index != i:\n",
    "        arr[min_index], arr[i] = arr[i], arr[min_index]\n",
    "        swaps += 1\n",
    "\n",
    "print(arr)\n",
    "print(N, swaps)\n",
    "print(N - 1 == swaps)\n"
   ]
  },
  {
   "cell_type": "markdown",
   "metadata": {},
   "source": [
    "Selection sort **is not** stable - it swaps non-adjacent elements:"
   ]
  },
  {
   "cell_type": "code",
   "execution_count": null,
   "metadata": {},
   "outputs": [],
   "source": [
    "arr = [(2, 'woman'), (1, 'a'), (1, 'b'), (2, 'man'), (1, 'c')]\n",
    "N = len(arr)\n",
    "\n",
    "print(arr)\n",
    "\n",
    "for i in range(N - 1):\n",
    "    min_index = i\n",
    "\n",
    "    for j in range(i + 1, N):\n",
    "        if arr[j][0] < arr[min_index][0]: # only compare the int values\n",
    "            min_index = j\n",
    "    \n",
    "    print(arr)\n",
    "    arr[min_index], arr[i] = arr[i], arr[min_index]\n",
    "\n",
    "print(arr)\n"
   ]
  },
  {
   "cell_type": "markdown",
   "metadata": {},
   "source": [
    "## **Insertion sort**"
   ]
  },
  {
   "cell_type": "markdown",
   "metadata": {},
   "source": [
    "Time complexity: *O(N<sup>2</sup>)*"
   ]
  },
  {
   "cell_type": "code",
   "execution_count": null,
   "metadata": {},
   "outputs": [],
   "source": [
    "arr = [9, 4, 3, 2, 6, 7, 1, 8, 5]\n",
    "N = len(arr)\n",
    "\n",
    "for i in range(1, N):\n",
    "    key = arr[i]\n",
    "\n",
    "    j = i - 1\n",
    "    while j >= 0 and key < arr[j]:\n",
    "        arr[j + 1] = arr[j]\n",
    "        j -= 1\n",
    "\n",
    "    arr[j + 1] = key\n",
    "\n",
    "print(arr) # [1, 2, 3, 4, 5, 6, 7, 8, 9]"
   ]
  },
  {
   "cell_type": "markdown",
   "metadata": {},
   "source": [
    "Verbose version:"
   ]
  },
  {
   "cell_type": "code",
   "execution_count": null,
   "metadata": {},
   "outputs": [],
   "source": [
    "arr = [9, 4, 3, 2, 6, 7, 1, 8, 5]\n",
    "N = len(arr)\n",
    "\n",
    "for i in range(1, N):\n",
    "    key = arr[i]\n",
    "    j = i - 1\n",
    "\n",
    "    print(f\"{key} - key\", arr)\n",
    "    \n",
    "    while j >= 0 and key < arr[j]:\n",
    "        arr[j + 1] = arr[j]\n",
    "        j -= 1\n",
    "\n",
    "        print(\"   ->  \", arr)\n",
    "\n",
    "\n",
    "    arr[j + 1] = key\n",
    "    print(\"put key\", arr, '\\n')\n",
    "\n",
    "print(arr) # [1, 2, 3, 4, 5, 6, 7, 8, 9]"
   ]
  },
  {
   "cell_type": "markdown",
   "metadata": {},
   "source": [
    "Insertion sort **is a** stable searching algorithm."
   ]
  },
  {
   "cell_type": "code",
   "execution_count": null,
   "metadata": {},
   "outputs": [],
   "source": [
    "arr = [(2, 'woman'), (1, 'a'), (1, 'b'), (2, 'man'), (1, 'c')]\n",
    "N = len(arr)\n",
    "\n",
    "print(arr)\n",
    "\n",
    "for i in range(1, N):\n",
    "    key = arr[i]\n",
    "\n",
    "    j = i - 1\n",
    "    while j >= 0 and key[0] < arr[j][0]: # only compare the int values\n",
    "        arr[j + 1] = arr[j]\n",
    "        j -= 1\n",
    "\n",
    "    arr[j + 1] = key\n",
    "    print(arr)\n",
    "\n",
    "print(arr)\n"
   ]
  },
  {
   "cell_type": "markdown",
   "metadata": {},
   "source": [
    "## **Merge sort**"
   ]
  },
  {
   "cell_type": "markdown",
   "metadata": {},
   "source": [
    "Time complexity: *O(NlogN)*"
   ]
  },
  {
   "cell_type": "code",
   "execution_count": null,
   "metadata": {},
   "outputs": [],
   "source": []
  }
 ],
 "metadata": {
  "kernelspec": {
   "display_name": "Python 3",
   "language": "python",
   "name": "python3"
  },
  "language_info": {
   "codemirror_mode": {
    "name": "ipython",
    "version": 3
   },
   "file_extension": ".py",
   "mimetype": "text/x-python",
   "name": "python",
   "nbconvert_exporter": "python",
   "pygments_lexer": "ipython3",
   "version": "3.10.11"
  }
 },
 "nbformat": 4,
 "nbformat_minor": 2
}
