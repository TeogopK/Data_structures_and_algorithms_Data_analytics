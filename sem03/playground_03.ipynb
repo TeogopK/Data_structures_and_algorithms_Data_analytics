{
 "cells": [
  {
   "cell_type": "markdown",
   "metadata": {},
   "source": [
    "## **Code playground for SDA sem 3**"
   ]
  },
  {
   "cell_type": "markdown",
   "metadata": {},
   "source": [
    "### **Bubble sort**"
   ]
  },
  {
   "cell_type": "markdown",
   "metadata": {},
   "source": [
    "Time complexity: *O(N<sup>2</sup>)*"
   ]
  },
  {
   "cell_type": "code",
   "execution_count": null,
   "metadata": {},
   "outputs": [],
   "source": [
    "arr = [9, 4, 3, 2, 6, 7, 1, 8, 5]\n",
    "N = len(arr)\n",
    "\n",
    "for i in range(N - 1):\n",
    "    for j in range(0, N - 1 - i):\n",
    "        if arr[j] > arr[j + 1]:\n",
    "            arr[j], arr[j + 1] = arr[j + 1], arr[j]\n",
    "\n",
    "print(arr) # [1, 2, 3, 4, 5, 6, 7, 8, 9]"
   ]
  },
  {
   "cell_type": "markdown",
   "metadata": {},
   "source": [
    "After the first iteration the biggest number is in the right place. On the next iteration - the second biggest and so on...\n",
    "\n",
    "Verbose variant:"
   ]
  },
  {
   "cell_type": "code",
   "execution_count": null,
   "metadata": {},
   "outputs": [],
   "source": [
    "arr = [9, 4, 3, 2, 6, 7, 1, 8, 5]\n",
    "N = len(arr)\n",
    "\n",
    "print(arr)\n",
    "\n",
    "for i in range(N - 1):\n",
    "    for j in range(0, N - 1 - i):\n",
    "        if arr[j] > arr[j + 1]:\n",
    "            arr[j], arr[j + 1] = arr[j + 1], arr[j]\n",
    "            print(arr)\n",
    "    print(f\"End of iteration {i}.\")"
   ]
  },
  {
   "cell_type": "markdown",
   "metadata": {},
   "source": [
    "Iterations without swaps, when the list is sorted, can be skipped using a flag. This is known as *Optimized bubble sort*:"
   ]
  },
  {
   "cell_type": "code",
   "execution_count": null,
   "metadata": {},
   "outputs": [],
   "source": [
    "arr = [9, 4, 3, 2, 6, 7, 1, 8, 5]\n",
    "N = len(arr)\n",
    "\n",
    "print(arr)\n",
    "\n",
    "for i in range(N - 1):\n",
    "    swapped = False\n",
    "\n",
    "    for j in range(0, N - 1 - i):\n",
    "        if arr[j] > arr[j + 1]:\n",
    "            arr[j], arr[j + 1] = arr[j + 1], arr[j]\n",
    "            swapped = True\n",
    "            print(arr)\n",
    "\n",
    "    if not swapped:\n",
    "        break\n",
    "\n",
    "    print(f\"End of iteration {i}.\")"
   ]
  },
  {
   "cell_type": "markdown",
   "metadata": {},
   "source": [
    "The worst case number of swaps is *N * (N - 1) / 2*:"
   ]
  },
  {
   "cell_type": "code",
   "execution_count": null,
   "metadata": {},
   "outputs": [],
   "source": [
    "N = 50\n",
    "arr = [i for i in range(N, 0, -1)]\n",
    "\n",
    "print(arr)\n",
    "swaps = 0\n",
    "\n",
    "for i in range(N - 1):\n",
    "    for j in range(0, N - 1 - i):\n",
    "        if arr[j] > arr[j + 1]:\n",
    "            arr[j], arr[j + 1] = arr[j + 1], arr[j]\n",
    "            swaps += 1\n",
    "\n",
    "print(arr)\n",
    "print(N, swaps)\n",
    "print(N * (N - 1) / 2 == swaps)\n"
   ]
  },
  {
   "cell_type": "markdown",
   "metadata": {},
   "source": [
    "Bubble sort **is a** stable sorting algorithm. Elements that are equal keep their relative positions after the sort."
   ]
  },
  {
   "cell_type": "code",
   "execution_count": null,
   "metadata": {},
   "outputs": [],
   "source": [
    "arr = [(2, 'woman'), (1, 'a'), (1, 'b'), (2, 'man'), (1, 'c')]\n",
    "N = len(arr)\n",
    "\n",
    "print(arr)\n",
    "\n",
    "for i in range(N - 1):\n",
    "    for j in range(0, N - 1 - i):\n",
    "        if arr[j][0] > arr[j + 1][0]: # only compare the int values\n",
    "            arr[j], arr[j + 1] = arr[j + 1], arr[j]\n",
    "\n",
    "print(arr)\n"
   ]
  },
  {
   "cell_type": "markdown",
   "metadata": {},
   "source": [
    "## **Selection sort**"
   ]
  },
  {
   "cell_type": "markdown",
   "metadata": {},
   "source": [
    "Time complexity: *O(N<sup>2</sup>)*"
   ]
  },
  {
   "cell_type": "code",
   "execution_count": null,
   "metadata": {},
   "outputs": [],
   "source": [
    "arr = [9, 4, 3, 2, 6, 7, 1, 8, 5]\n",
    "N = len(arr)\n",
    "\n",
    "for i in range(N - 1):\n",
    "    min_index = i\n",
    "\n",
    "    for j in range(i + 1, N):\n",
    "        if arr[j] < arr[min_index]:\n",
    "            min_index = j\n",
    "\n",
    "    arr[min_index], arr[i] = arr[i], arr[min_index]\n",
    "\n",
    "print(arr) # [1, 2, 3, 4, 5, 6, 7, 8, 9]"
   ]
  },
  {
   "cell_type": "markdown",
   "metadata": {},
   "source": [
    "After each iteration the smallest element is in the right place.\n",
    "\n",
    "Verbose variant:"
   ]
  },
  {
   "cell_type": "code",
   "execution_count": null,
   "metadata": {},
   "outputs": [],
   "source": [
    "arr = [9, 4, 3, 2, 6, 7, 1, 8, 5]\n",
    "N = len(arr)\n",
    "\n",
    "print(arr)\n",
    "\n",
    "for i in range(N - 1):\n",
    "    min_index = i\n",
    "\n",
    "    for j in range(i + 1, N):\n",
    "        if arr[j] < arr[min_index]:\n",
    "            min_index = j\n",
    "\n",
    "    arr[min_index], arr[i] = arr[i], arr[min_index]\n",
    "    print(arr)"
   ]
  },
  {
   "cell_type": "markdown",
   "metadata": {},
   "source": [
    "Note that the algorithm always does *N - 1* swaps. If check is added to avoid swapping when the first element was the smallest, then only in the worst case there will be *N - 1* swaps."
   ]
  },
  {
   "cell_type": "code",
   "execution_count": null,
   "metadata": {},
   "outputs": [],
   "source": [
    "N = 10\n",
    "# Note how the worst case for swaps looks like :)\n",
    "arr = [N] + [i for i in range(1, N)] \n",
    "\n",
    "print(arr)\n",
    "swaps = 0\n",
    "\n",
    "for i in range(N - 1):\n",
    "    min_index = i\n",
    "\n",
    "    for j in range(i + 1, N):\n",
    "        if arr[j] < arr[min_index]:\n",
    "            min_index = j\n",
    "\n",
    "    if min_index != i:\n",
    "        arr[min_index], arr[i] = arr[i], arr[min_index]\n",
    "        swaps += 1\n",
    "\n",
    "print(arr)\n",
    "print(N, swaps)\n",
    "print(N - 1 == swaps)\n"
   ]
  },
  {
   "cell_type": "markdown",
   "metadata": {},
   "source": [
    "Selection sort **is not** stable - it swaps non-adjacent elements:"
   ]
  },
  {
   "cell_type": "code",
   "execution_count": null,
   "metadata": {},
   "outputs": [],
   "source": [
    "arr = [(2, 'woman'), (1, 'a'), (1, 'b'), (2, 'man'), (1, 'c')]\n",
    "N = len(arr)\n",
    "\n",
    "print(arr)\n",
    "\n",
    "for i in range(N - 1):\n",
    "    min_index = i\n",
    "\n",
    "    for j in range(i + 1, N):\n",
    "        if arr[j][0] < arr[min_index][0]: # only compare the int values\n",
    "            min_index = j\n",
    "    \n",
    "    print(arr)\n",
    "    arr[min_index], arr[i] = arr[i], arr[min_index]\n",
    "\n",
    "print(arr)\n"
   ]
  },
  {
   "cell_type": "markdown",
   "metadata": {},
   "source": [
    "## **Insertion sort**"
   ]
  },
  {
   "cell_type": "markdown",
   "metadata": {},
   "source": [
    "Time complexity: *O(N<sup>2</sup>)*"
   ]
  },
  {
   "cell_type": "code",
   "execution_count": null,
   "metadata": {},
   "outputs": [],
   "source": [
    "arr = [9, 4, 3, 2, 6, 7, 1, 8, 5]\n",
    "N = len(arr)\n",
    "\n",
    "for i in range(1, N):\n",
    "    key = arr[i]\n",
    "\n",
    "    j = i - 1\n",
    "    while j >= 0 and key < arr[j]:\n",
    "        arr[j + 1] = arr[j]\n",
    "        j -= 1\n",
    "\n",
    "    arr[j + 1] = key\n",
    "\n",
    "print(arr) # [1, 2, 3, 4, 5, 6, 7, 8, 9]"
   ]
  },
  {
   "cell_type": "markdown",
   "metadata": {},
   "source": [
    "Verbose version:"
   ]
  },
  {
   "cell_type": "code",
   "execution_count": null,
   "metadata": {},
   "outputs": [],
   "source": [
    "arr = [9, 4, 3, 2, 6, 7, 1, 8, 5]\n",
    "N = len(arr)\n",
    "\n",
    "for i in range(1, N):\n",
    "    key = arr[i]\n",
    "    j = i - 1\n",
    "\n",
    "    print(f\"{key} - key\", arr)\n",
    "    \n",
    "    while j >= 0 and key < arr[j]:\n",
    "        arr[j + 1] = arr[j]\n",
    "        j -= 1\n",
    "\n",
    "        print(\"   ->  \", arr)\n",
    "\n",
    "\n",
    "    arr[j + 1] = key\n",
    "    print(\"put key\", arr, '\\n')\n",
    "\n",
    "print(arr) # [1, 2, 3, 4, 5, 6, 7, 8, 9]"
   ]
  },
  {
   "cell_type": "markdown",
   "metadata": {},
   "source": [
    "Insertion sort **is a** stable searching algorithm."
   ]
  },
  {
   "cell_type": "code",
   "execution_count": null,
   "metadata": {},
   "outputs": [],
   "source": [
    "arr = [(2, 'woman'), (1, 'a'), (1, 'b'), (2, 'man'), (1, 'c')]\n",
    "N = len(arr)\n",
    "\n",
    "print(arr)\n",
    "\n",
    "for i in range(1, N):\n",
    "    key = arr[i]\n",
    "\n",
    "    j = i - 1\n",
    "    while j >= 0 and key[0] < arr[j][0]: # only compare the int values\n",
    "        arr[j + 1] = arr[j]\n",
    "        j -= 1\n",
    "\n",
    "    arr[j + 1] = key\n",
    "    print(arr)\n",
    "\n",
    "print(arr)\n"
   ]
  },
  {
   "cell_type": "markdown",
   "metadata": {},
   "source": [
    "## **Merge sort**"
   ]
  },
  {
   "cell_type": "markdown",
   "metadata": {},
   "source": [
    "Time complexity: *O(NlogN)*"
   ]
  },
  {
   "cell_type": "code",
   "execution_count": null,
   "metadata": {},
   "outputs": [],
   "source": [
    "def merge(arr, left_arr, right_arr):\n",
    "    index = left = right = 0\n",
    "    left_size = len(left_arr)\n",
    "    right_size = len(right_arr)\n",
    "\n",
    "    while left < left_size and right < right_size:\n",
    "        if left_arr[left] <= right_arr[right]:\n",
    "            arr[index] = left_arr[left] \n",
    "            left += 1\n",
    "        else:\n",
    "            arr[index] = right_arr[right] \n",
    "            right += 1\n",
    "        index += 1\n",
    "\n",
    "    while left < left_size:\n",
    "        arr[index] = left_arr[left]\n",
    "        index += 1\n",
    "        left += 1\n",
    "\n",
    "    while right < right_size:\n",
    "        arr[index] = right_arr[right]\n",
    "        index += 1\n",
    "        right += 1\n",
    "\n",
    "def merge_sort(arr):\n",
    "    if len(arr) > 1:\n",
    "        middle = len(arr) // 2\n",
    "\n",
    "        left_arr = arr[:middle]\n",
    "        right_arr = arr[middle:]\n",
    "\n",
    "        merge_sort(left_arr)\n",
    "        merge_sort(right_arr)\n",
    "\n",
    "        merge(arr, left_arr, right_arr)\n",
    "\n",
    "arr = [9, 4, 3, 2, 6, 7, 1, 8, 5]\n",
    "\n",
    "merge_sort(arr)\n",
    "print(arr) # [1, 2, 3, 4, 5, 6, 7, 8, 9]"
   ]
  },
  {
   "cell_type": "markdown",
   "metadata": {},
   "source": [
    "Verbose merge_sort function without the \"merge\" part - the *Divide and conquer* paradigm:"
   ]
  },
  {
   "cell_type": "code",
   "execution_count": null,
   "metadata": {},
   "outputs": [],
   "source": [
    "def merge_sort(arr):\n",
    "    if len(arr) > 1:\n",
    "        middle = len(arr) // 2\n",
    "\n",
    "        left_arr = arr[:middle]\n",
    "        right_arr = arr[middle:]\n",
    "\n",
    "        print(middle, left_arr, right_arr)\n",
    "\n",
    "        merge_sort(left_arr)\n",
    "        merge_sort(right_arr)\n",
    "\n",
    "        pass\n",
    "\n",
    "arr = [9, 4, 3, 2, 6, 7, 1, 8, 5]\n",
    "\n",
    "merge_sort(arr)\n",
    "print(arr)"
   ]
  },
  {
   "cell_type": "markdown",
   "metadata": {},
   "source": [
    "Full verbose variant:"
   ]
  },
  {
   "cell_type": "code",
   "execution_count": null,
   "metadata": {},
   "outputs": [],
   "source": [
    "def merge(arr, left_arr, right_arr):\n",
    "    print(\"Start of merging: \", arr, left_arr, right_arr)\n",
    "\n",
    "    index = left = right = 0\n",
    "    left_size = len(left_arr)\n",
    "    right_size = len(right_arr)\n",
    "\n",
    "    while left < left_size and right < right_size:\n",
    "        if left_arr[left] <= right_arr[right]:\n",
    "            arr[index] = left_arr[left] \n",
    "            left += 1\n",
    "        else:\n",
    "            arr[index] = right_arr[right] \n",
    "            right += 1\n",
    "        index += 1\n",
    "\n",
    "    while left < left_size:\n",
    "        arr[index] = left_arr[left]\n",
    "        index += 1\n",
    "        left += 1\n",
    "\n",
    "    while right < right_size:\n",
    "        arr[index] = right_arr[right]\n",
    "        index += 1\n",
    "        right += 1\n",
    "\n",
    "    print(\"End of merging: \", arr, left_arr, right_arr)\n",
    "\n",
    "def merge_sort(arr):\n",
    "    if len(arr) > 1:\n",
    "        middle = len(arr) // 2\n",
    "\n",
    "        left_arr = arr[:middle]\n",
    "        right_arr = arr[middle:]\n",
    "\n",
    "        print(middle, left_arr, right_arr)\n",
    "\n",
    "        merge_sort(left_arr)\n",
    "        merge_sort(right_arr)\n",
    "\n",
    "        merge(arr, left_arr, right_arr)\n",
    "\n",
    "arr = [9, 4, 3, 2, 6, 7, 1, 8, 5]\n",
    "\n",
    "merge_sort(arr)\n",
    "print(arr) # [1, 2, 3, 4, 5, 6, 7, 8, 9]"
   ]
  },
  {
   "cell_type": "markdown",
   "metadata": {},
   "source": [
    "Number of stages for merging -> *logN*. All merges on each level cost in total *N* steps:"
   ]
  },
  {
   "cell_type": "code",
   "execution_count": null,
   "metadata": {},
   "outputs": [],
   "source": [
    "levels = 0\n",
    "\n",
    "def merge_sort_straight(arr):\n",
    "    global levels\n",
    "    \n",
    "    if len(arr) > 1:\n",
    "        levels += 1\n",
    "\n",
    "        middle = len(arr) // 2\n",
    "\n",
    "        left_arr = arr[:middle]\n",
    "        right_arr = arr[middle:]\n",
    "\n",
    "        merge_sort_straight(left_arr)\n",
    "\n",
    "N = 1024\n",
    "arr = [i for i in range(N)]\n",
    "\n",
    "merge_sort_straight(arr)\n",
    "print(\"Size of array:\", N, \"Number of levels: \", levels)"
   ]
  },
  {
   "cell_type": "markdown",
   "metadata": {},
   "source": [
    "Merge sort **is a** stable sorting algorithm.\n",
    "\n",
    "Note that the equal sign in the if statement is the reason for it.\n"
   ]
  },
  {
   "cell_type": "code",
   "execution_count": null,
   "metadata": {},
   "outputs": [],
   "source": [
    "def merge(arr, left_arr, right_arr):\n",
    "    index = left = right = 0\n",
    "    left_size = len(left_arr)\n",
    "    right_size = len(right_arr)\n",
    "\n",
    "    while left < left_size and right < right_size: \n",
    "        # Note the equal sign:\n",
    "        if left_arr[left][0] <= right_arr[right][0]: # Comparing only the int\n",
    "            arr[index] = left_arr[left] \n",
    "            left += 1\n",
    "        else:\n",
    "            arr[index] = right_arr[right] \n",
    "            right += 1\n",
    "        index += 1\n",
    "\n",
    "    while left < left_size:\n",
    "        arr[index] = left_arr[left]\n",
    "        index += 1\n",
    "        left += 1\n",
    "\n",
    "    while right < right_size:\n",
    "        arr[index] = right_arr[right]\n",
    "        index += 1\n",
    "        right += 1\n",
    "\n",
    "def merge_sort(arr):\n",
    "    if len(arr) > 1:\n",
    "        middle = len(arr) // 2\n",
    "\n",
    "        left_arr = arr[:middle]\n",
    "        right_arr = arr[middle:]\n",
    "\n",
    "        merge_sort(left_arr)\n",
    "        merge_sort(right_arr)\n",
    "\n",
    "        merge(arr, left_arr, right_arr)\n",
    "\n",
    "arr = [(2, 'woman'), (1, 'a'), (1, 'b'), (2, 'man'), (1, 'c')]\n",
    "merge_sort(arr)\n",
    "print(arr)"
   ]
  },
  {
   "cell_type": "markdown",
   "metadata": {},
   "source": [
    "## **Quick sort**"
   ]
  },
  {
   "cell_type": "markdown",
   "metadata": {},
   "source": [
    "Average time complexity: *O(NlogN)*\n",
    "\n",
    "Worst time complexity: *O(N<sup>2</sup>)*"
   ]
  },
  {
   "cell_type": "code",
   "execution_count": 66,
   "metadata": {},
   "outputs": [
    {
     "name": "stdout",
     "output_type": "stream",
     "text": [
      "[1, 2, 3, 4, 5, 6, 7, 8, 9]\n"
     ]
    }
   ],
   "source": [
    "def partition(arr, low, high):\n",
    "    pivot = arr[high]\n",
    "    i = low\n",
    "\n",
    "    for j in range(low, high):\n",
    "        if arr[j] <= pivot:\n",
    "            arr[i], arr[j] = arr[j], arr[i]\n",
    "            i += 1\n",
    "\n",
    "    arr[i], arr[high] = arr[high], arr[i]\n",
    "    \n",
    "    return i\n",
    "\n",
    "def quick_sort(arr, low, high):\n",
    "    if low < high:\n",
    "        pi = partition(arr, low, high)\n",
    "\n",
    "        quick_sort(arr, low, pi - 1)\n",
    "        quick_sort(arr, pi + 1, high)\n",
    "\n",
    "arr = [9, 4, 3, 2, 6, 7, 1, 8, 5]\n",
    "N = len(arr)\n",
    "\n",
    "quick_sort(arr, 0, N - 1)\n",
    "print(arr) # [1, 2, 3, 4, 5, 6, 7, 8, 9]"
   ]
  },
  {
   "cell_type": "markdown",
   "metadata": {},
   "source": [
    "Verbose variant:"
   ]
  },
  {
   "cell_type": "code",
   "execution_count": 69,
   "metadata": {},
   "outputs": [
    {
     "name": "stdout",
     "output_type": "stream",
     "text": [
      "New pivot number: 5, low: 0, high: 8\n",
      "Before:  [9, 4, 3, 2, 6, 7, 1, 8, 5]\n",
      "Swap: 6 5 [4, 3, 2, 1, 6, 7, 9, 8, 5]\n",
      "After: [4, 3, 2, 1, 5, 7, 9, 8, 6]\n",
      "New pivot number: 1, low: 0, high: 3\n",
      "Before:  [4, 3, 2, 1]\n",
      "Swap: 4 1 [4, 3, 2, 1]\n",
      "After: [1, 3, 2, 4]\n",
      "New pivot number: 4, low: 1, high: 3\n",
      "Before:  [3, 2, 4]\n",
      "Swap: 4 4 [3, 2, 4]\n",
      "After: [3, 2, 4]\n",
      "New pivot number: 2, low: 1, high: 2\n",
      "Before:  [3, 2]\n",
      "Swap: 3 2 [3, 2]\n",
      "After: [2, 3]\n",
      "New pivot number: 6, low: 5, high: 8\n",
      "Before:  [7, 9, 8, 6]\n",
      "Swap: 7 6 [7, 9, 8, 6]\n",
      "After: [6, 9, 8, 7]\n",
      "New pivot number: 7, low: 6, high: 8\n",
      "Before:  [9, 8, 7]\n",
      "Swap: 9 7 [9, 8, 7]\n",
      "After: [7, 8, 9]\n",
      "New pivot number: 9, low: 7, high: 8\n",
      "Before:  [8, 9]\n",
      "Swap: 9 9 [8, 9]\n",
      "After: [8, 9]\n",
      "[1, 2, 3, 4, 5, 6, 7, 8, 9]\n"
     ]
    }
   ],
   "source": [
    "def partition(arr, low, high):\n",
    "    pivot = arr[high]\n",
    "    i = low\n",
    "\n",
    "    print(f\"New pivot number: {pivot}, low: {low}, high: {high}\")\n",
    "    print(\"Before: \", arr[low:high + 1])\n",
    "\n",
    "    for j in range(low, high):\n",
    "        if arr[j] <= pivot:\n",
    "            arr[i], arr[j] = arr[j], arr[i]\n",
    "            i += 1\n",
    "\n",
    "    print(\"Swap:\", arr[i], arr[high], arr[low:high + 1])\n",
    "\n",
    "    arr[i], arr[high] = arr[high], arr[i]\n",
    "\n",
    "    print(\"After:\", arr[low:high + 1])\n",
    "    \n",
    "    return i\n",
    "\n",
    "def quick_sort(arr, low, high):\n",
    "    if low < high:\n",
    "        pi = partition(arr, low, high)\n",
    "\n",
    "        quick_sort(arr, low, pi - 1)\n",
    "        quick_sort(arr, pi + 1, high)\n",
    "\n",
    "arr = [9, 4, 3, 2, 6, 7, 1, 8, 5]\n",
    "N = len(arr)\n",
    "\n",
    "quick_sort(arr, 0, N - 1)\n",
    "print(arr)"
   ]
  },
  {
   "cell_type": "markdown",
   "metadata": {},
   "source": [
    "Quick sort **is not** a stable sorting algorithm."
   ]
  },
  {
   "cell_type": "code",
   "execution_count": 71,
   "metadata": {},
   "outputs": [
    {
     "name": "stdout",
     "output_type": "stream",
     "text": [
      "[(1, 'a'), (1, 'b'), (1, 'c'), (2, 'man'), (2, 'woman')]\n"
     ]
    }
   ],
   "source": [
    "def partition(arr, low, high):\n",
    "    pivot = arr[high]\n",
    "    i = low\n",
    "\n",
    "    for j in range(low, high):\n",
    "        if arr[j][0] <= pivot[0]: # Comparing the integers\n",
    "            arr[i], arr[j] = arr[j], arr[i]\n",
    "            i += 1\n",
    "\n",
    "    arr[i], arr[high] = arr[high], arr[i]\n",
    "    \n",
    "    return i\n",
    "\n",
    "def quick_sort(arr, low, high):\n",
    "    if low < high:\n",
    "        pi = partition(arr, low, high)\n",
    "\n",
    "        quick_sort(arr, low, pi - 1)\n",
    "        quick_sort(arr, pi + 1, high)\n",
    "\n",
    "\n",
    "arr = [(2, 'woman'), (1, 'a'), (1, 'b'), (2, 'man'), (1, 'c')]\n",
    "N = len(arr)\n",
    "\n",
    "quick_sort(arr, 0, N - 1)\n",
    "print(arr)"
   ]
  },
  {
   "cell_type": "markdown",
   "metadata": {},
   "source": [
    "## **Counting sort**"
   ]
  },
  {
   "cell_type": "markdown",
   "metadata": {},
   "source": [
    "Average time complexity: *O(N + K)*\n",
    "\n",
    "*N* = the number of items\n",
    "\n",
    "*K* = the number of possible values"
   ]
  },
  {
   "cell_type": "code",
   "execution_count": 79,
   "metadata": {},
   "outputs": [
    {
     "ename": "IndexError",
     "evalue": "list assignment index out of range",
     "output_type": "error",
     "traceback": [
      "\u001b[1;31m---------------------------------------------------------------------------\u001b[0m",
      "\u001b[1;31mIndexError\u001b[0m                                Traceback (most recent call last)",
      "\u001b[1;32mc:\\Users\\Teodor.Kostadinov\\UNI\\SDA\\Seminar-git\\Data_structures_and_algorithms_Data_analytics\\sem03\\playground_03.ipynb Cell 49\u001b[0m line \u001b[0;36m1\n\u001b[0;32m     <a href='vscode-notebook-cell:/c%3A/Users/Teodor.Kostadinov/UNI/SDA/Seminar-git/Data_structures_and_algorithms_Data_analytics/sem03/playground_03.ipynb#Y100sZmlsZQ%3D%3D?line=11'>12</a>\u001b[0m i \u001b[39m=\u001b[39m size \u001b[39m-\u001b[39m \u001b[39m1\u001b[39m\n\u001b[0;32m     <a href='vscode-notebook-cell:/c%3A/Users/Teodor.Kostadinov/UNI/SDA/Seminar-git/Data_structures_and_algorithms_Data_analytics/sem03/playground_03.ipynb#Y100sZmlsZQ%3D%3D?line=12'>13</a>\u001b[0m \u001b[39mwhile\u001b[39;00m i \u001b[39m>\u001b[39m\u001b[39m=\u001b[39m \u001b[39m0\u001b[39m:\n\u001b[1;32m---> <a href='vscode-notebook-cell:/c%3A/Users/Teodor.Kostadinov/UNI/SDA/Seminar-git/Data_structures_and_algorithms_Data_analytics/sem03/playground_03.ipynb#Y100sZmlsZQ%3D%3D?line=13'>14</a>\u001b[0m     output[count[arr[i]] \u001b[39m-\u001b[39;49m \u001b[39m1\u001b[39;49m] \u001b[39m=\u001b[39m arr[i]\n\u001b[0;32m     <a href='vscode-notebook-cell:/c%3A/Users/Teodor.Kostadinov/UNI/SDA/Seminar-git/Data_structures_and_algorithms_Data_analytics/sem03/playground_03.ipynb#Y100sZmlsZQ%3D%3D?line=14'>15</a>\u001b[0m     count[arr[i]] \u001b[39m-\u001b[39m\u001b[39m=\u001b[39m \u001b[39m1\u001b[39m\n\u001b[0;32m     <a href='vscode-notebook-cell:/c%3A/Users/Teodor.Kostadinov/UNI/SDA/Seminar-git/Data_structures_and_algorithms_Data_analytics/sem03/playground_03.ipynb#Y100sZmlsZQ%3D%3D?line=15'>16</a>\u001b[0m     i \u001b[39m-\u001b[39m\u001b[39m=\u001b[39m \u001b[39m1\u001b[39m\n",
      "\u001b[1;31mIndexError\u001b[0m: list assignment index out of range"
     ]
    }
   ],
   "source": [
    "# Counting sort in Python programming\n",
    "\n",
    "\n",
    "def countingSort(array):\n",
    "    size = len(array)\n",
    "    output = [0] * size\n",
    "\n",
    "    # Initialize count array\n",
    "    count = [0] * 10\n",
    "\n",
    "    # Store the count of each elements in count array\n",
    "    for i in range(0, size):\n",
    "        count[array[i]] += 1\n",
    "\n",
    "    # Store the cummulative count\n",
    "    for i in range(1, 10):\n",
    "        count[i] += count[i - 1]\n",
    "\n",
    "    # Find the index of each element of the original array in count array\n",
    "    # place the elements in output array\n",
    "    i = size - 1\n",
    "    while i >= 0:\n",
    "        output[count[array[i]] - 1] = array[i]\n",
    "        count[array[i]] -= 1\n",
    "        i -= 1\n",
    "\n",
    "    # Copy the sorted elements into original array\n",
    "    for i in range(0, size):\n",
    "        array[i] = output[i]\n",
    "\n",
    "\n",
    "data = [4, 2, 2, 8, 3, 3, 1]\n",
    "countingSort(data)\n",
    "print(\"Sorted Array in Ascending Order: \")\n",
    "print(data)"
   ]
  },
  {
   "cell_type": "markdown",
   "metadata": {},
   "source": [
    "Verbose version:"
   ]
  },
  {
   "cell_type": "code",
   "execution_count": null,
   "metadata": {},
   "outputs": [],
   "source": []
  },
  {
   "cell_type": "markdown",
   "metadata": {},
   "source": [
    "Counting sort **is a** stable algorithm."
   ]
  },
  {
   "cell_type": "code",
   "execution_count": null,
   "metadata": {},
   "outputs": [],
   "source": [
    "arr = [(2, 'woman'), (1, 'a'), (1, 'b'), (2, 'man'), (1, 'c')]\n",
    "N = len(arr)\n",
    "\n",
    "print(arr)"
   ]
  }
 ],
 "metadata": {
  "kernelspec": {
   "display_name": "Python 3",
   "language": "python",
   "name": "python3"
  },
  "language_info": {
   "codemirror_mode": {
    "name": "ipython",
    "version": 3
   },
   "file_extension": ".py",
   "mimetype": "text/x-python",
   "name": "python",
   "nbconvert_exporter": "python",
   "pygments_lexer": "ipython3",
   "version": "3.10.11"
  }
 },
 "nbformat": 4,
 "nbformat_minor": 2
}
